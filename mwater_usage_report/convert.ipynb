{
 "cells": [
  {
   "cell_type": "code",
   "execution_count": 1,
   "metadata": {},
   "outputs": [],
   "source": [
    "from pandas import read_csv, to_datetime,Timestamp,DateOffset, DataFrame, read_excel, ExcelWriter\n",
    "import openpyxl\n",
    "\n",
    "from IPython.core.interactiveshell import InteractiveShell\n",
    "InteractiveShell.ast_node_interactivity = \"all\""
   ]
  },
  {
   "cell_type": "code",
   "execution_count": 2,
   "metadata": {},
   "outputs": [],
   "source": [
    "file = read_csv(\"./activity_summary_121224.csv\")"
   ]
  },
  {
   "cell_type": "code",
   "execution_count": 3,
   "metadata": {},
   "outputs": [],
   "source": [
    "lookup = read_excel(\"./lookup.xlsx\",sheet_name=\"no_dup_temp\")"
   ]
  },
  {
   "cell_type": "code",
   "execution_count": 4,
   "metadata": {},
   "outputs": [],
   "source": [
    "# Convert 'Last Activity' to naive datetime (without timezone) for consistency\n",
    "file['Last Activity'] = to_datetime(file['Last Activity'], errors='coerce').dt.tz_localize(None)\n",
    "\n",
    "\n",
    "# Define the 12-month cutoff using naive datetime for consistency\n",
    "#cutoff_date = Timestamp.now().tz_localize(None) - DateOffset(months=1)\n",
    "oct_date_start = \"2024-10-01\"\n",
    "oct_date_end = \"2024-10-31\"\n",
    "\n",
    "nov_cutOff = \"2024-11-01\""
   ]
  },
  {
   "cell_type": "markdown",
   "metadata": {},
   "source": [
    "## Month activities"
   ]
  },
  {
   "cell_type": "code",
   "execution_count": 5,
   "metadata": {},
   "outputs": [],
   "source": [
    "active_users_oct = file[(file['Last Activity'] >= oct_date_start) & (file['Last Activity'] <= oct_date_end)]\n",
    "num_active_users_oct = len(active_users_oct)\n",
    "\n",
    "active_users_nov = file[file['Last Activity'] >= nov_cutOff]\n",
    "num_active_users_nov = len(active_users_nov)"
   ]
  },
  {
   "cell_type": "code",
   "execution_count": 6,
   "metadata": {},
   "outputs": [
    {
     "data": {
      "text/plain": [
       "1"
      ]
     },
     "execution_count": 6,
     "metadata": {},
     "output_type": "execute_result"
    },
    {
     "data": {
      "text/plain": [
       "47"
      ]
     },
     "execution_count": 6,
     "metadata": {},
     "output_type": "execute_result"
    }
   ],
   "source": [
    "num_active_users_oct\n",
    "num_active_users_nov # keep"
   ]
  },
  {
   "cell_type": "code",
   "execution_count": 7,
   "metadata": {},
   "outputs": [],
   "source": [
    "active = active_users_nov[['Username','Last Activity']]\n",
    "analysis = active.merge(lookup,on=\"Username\",how=\"left\")"
   ]
  },
  {
   "cell_type": "code",
   "execution_count": 8,
   "metadata": {},
   "outputs": [
    {
     "data": {
      "text/plain": [
       "Index(['Username', 'Last Activity', 'Full_Name', 'Key_stakeholders', 'groupe',\n",
       "       'is_duplicated'],\n",
       "      dtype='object')"
      ]
     },
     "execution_count": 8,
     "metadata": {},
     "output_type": "execute_result"
    }
   ],
   "source": [
    "analysis.columns"
   ]
  },
  {
   "cell_type": "code",
   "execution_count": 9,
   "metadata": {},
   "outputs": [],
   "source": [
    "usage_analysis = analysis.pivot_table(\n",
    "    values= \"is_duplicated\",\n",
    "    index = \"Key_stakeholders\",\n",
    "    aggfunc= \"count\",\n",
    "    fill_value=0,\n",
    "    margins= True,\n",
    "    margins_name=\"Total\"\n",
    ")\n",
    "usage_analysis.rename(\n",
    "    columns={\n",
    "        \"is_duplicated\":\"Number of Active Users since November 1 2024\"\n",
    "    },\n",
    "    inplace=True\n",
    ")\n"
   ]
  },
  {
   "cell_type": "code",
   "execution_count": 10,
   "metadata": {},
   "outputs": [],
   "source": [
    "#usage_analysis\n",
    "analysis.drop(columns=[\"is_duplicated\"],axis=1, inplace=True)"
   ]
  },
  {
   "cell_type": "code",
   "execution_count": 11,
   "metadata": {},
   "outputs": [],
   "source": [
    "#TODO add date du jour\n",
    "mWater_usage_report = ExcelWriter(f\"./mWater_usage_report_12/12/24.xlsx\",engine=\"xlsxwriter\")\n",
    "usage_analysis.to_excel(mWater_usage_report,sheet_name=\"Summary\",index=True,na_rep=\"\")\n",
    "analysis.to_excel(mWater_usage_report,sheet_name=\"List of Users\",index=False,na_rep=\"\")\n",
    "mWater_usage_report.close()\n"
   ]
  },
  {
   "cell_type": "code",
   "execution_count": 23,
   "metadata": {},
   "outputs": [],
   "source": []
  },
  {
   "cell_type": "code",
   "execution_count": null,
   "metadata": {},
   "outputs": [],
   "source": []
  }
 ],
 "metadata": {
  "kernelspec": {
   "display_name": "Python 3",
   "language": "python",
   "name": "python3"
  },
  "language_info": {
   "codemirror_mode": {
    "name": "ipython",
    "version": 3
   },
   "file_extension": ".py",
   "mimetype": "text/x-python",
   "name": "python",
   "nbconvert_exporter": "python",
   "pygments_lexer": "ipython3",
   "version": "3.13.0"
  }
 },
 "nbformat": 4,
 "nbformat_minor": 2
}
