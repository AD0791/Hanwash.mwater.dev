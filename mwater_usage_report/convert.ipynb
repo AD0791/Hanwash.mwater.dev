{
 "cells": [
  {
   "cell_type": "code",
   "execution_count": 1,
   "metadata": {},
   "outputs": [],
   "source": [
    "from pandas import read_csv, to_datetime,Timestamp,DateOffset, DataFrame, read_excel, ExcelWriter\n",
    "import openpyxl\n",
    "from datetime import datetime\n",
    "from IPython.core.interactiveshell import InteractiveShell\n",
    "InteractiveShell.ast_node_interactivity = \"all\""
   ]
  },
  {
   "cell_type": "code",
   "execution_count": null,
   "metadata": {},
   "outputs": [
    {
     "data": {
      "text/plain": [
       "'2024-12-24'"
      ]
     },
     "execution_count": 2,
     "metadata": {},
     "output_type": "execute_result"
    }
   ],
   "source": [
    "date_du_jour = datetime.today().strftime('%Y-%m-%d')\n",
    "date_du_jour"
   ]
  },
  {
   "cell_type": "code",
   "execution_count": 3,
   "metadata": {},
   "outputs": [],
   "source": [
    "file = read_csv(\"./activity_summary_231224.csv\")"
   ]
  },
  {
   "cell_type": "code",
   "execution_count": 4,
   "metadata": {},
   "outputs": [],
   "source": [
    "lookup = read_excel(\"./lookup.xlsx\")"
   ]
  },
  {
   "cell_type": "code",
   "execution_count": 5,
   "metadata": {},
   "outputs": [],
   "source": [
    "# Convert 'Last Activity' to naive datetime (without timezone) for consistency\n",
    "file['Last Activity'] = to_datetime(file['Last Activity'], errors='coerce').dt.tz_localize(None)\n",
    "\n",
    "\n",
    "# Define the 12-month cutoff using naive datetime for consistency\n",
    "#cutoff_date = Timestamp.now().tz_localize(None) - DateOffset(months=1)\n",
    "oct_date_start = \"2024-10-01\"\n",
    "oct_date_end = \"2024-10-31\"\n",
    "\n",
    "nov_date_start = \"2024-11-01\"\n",
    "nov_date_end = \"2024-11-30\"\n",
    "\n",
    "dec_cutOff = \"2024-12-01\"\n",
    "\n",
    "since_nov= \"2024-11-01\""
   ]
  },
  {
   "cell_type": "markdown",
   "metadata": {},
   "source": [
    "## Month activities"
   ]
  },
  {
   "cell_type": "code",
   "execution_count": 6,
   "metadata": {},
   "outputs": [],
   "source": [
    "active_users_oct = file[(file['Last Activity'] >= oct_date_start) & (file['Last Activity'] <= oct_date_end)]\n",
    "num_active_users_oct = len(active_users_oct)\n",
    "\n",
    "active_users_nov = file[(file['Last Activity'] >= nov_date_start) & (file['Last Activity'] <= nov_date_end)]\n",
    "num_active_users_nov = len(active_users_nov)\n",
    "\n",
    "\n",
    "active_users_dec = file[file['Last Activity'] >= dec_cutOff]\n",
    "num_active_users_dec = len(active_users_dec)\n",
    "\n",
    "active_users_since_nov = file[file['Last Activity'] >= since_nov]\n",
    "num_active_users_since_nov = len(active_users_since_nov)"
   ]
  },
  {
   "cell_type": "code",
   "execution_count": 7,
   "metadata": {},
   "outputs": [
    {
     "data": {
      "text/plain": [
       "0"
      ]
     },
     "execution_count": 7,
     "metadata": {},
     "output_type": "execute_result"
    },
    {
     "data": {
      "text/plain": [
       "20"
      ]
     },
     "execution_count": 7,
     "metadata": {},
     "output_type": "execute_result"
    },
    {
     "data": {
      "text/plain": [
       "30"
      ]
     },
     "execution_count": 7,
     "metadata": {},
     "output_type": "execute_result"
    },
    {
     "data": {
      "text/plain": [
       "50"
      ]
     },
     "execution_count": 7,
     "metadata": {},
     "output_type": "execute_result"
    }
   ],
   "source": [
    "num_active_users_oct\n",
    "num_active_users_nov \n",
    "num_active_users_dec\n",
    "num_active_users_since_nov"
   ]
  },
  {
   "cell_type": "code",
   "execution_count": 8,
   "metadata": {},
   "outputs": [],
   "source": [
    "active_nov = active_users_nov[['Username','Last Activity']]\n",
    "active_dec = active_users_dec[['Username','Last Activity']]\n",
    "active_since_nov = active_users_since_nov[['Username','Last Activity']]\n",
    "\n",
    "analysis_nov = active_nov.merge(lookup,on=\"Username\",how=\"left\")\n",
    "analysis_dec = active_dec.merge(lookup,on=\"Username\",how=\"left\")\n",
    "analysis_since_nov = active_since_nov.merge(lookup,on=\"Username\",how=\"left\")"
   ]
  },
  {
   "cell_type": "code",
   "execution_count": 9,
   "metadata": {},
   "outputs": [],
   "source": [
    "# Remove \"jp.5 -HANWASH\" if and only if both \"jp.5 -HANWASH\" and \"Jan.Pooley\" exist in the dataframe\n",
    "\n",
    "# For analysis_dec\n",
    "if \"jp.5 -HANWASH\" in analysis_dec[\"Username\"].values and \"Jan.Pooley\" in analysis_dec[\"Username\"].values:\n",
    "    analysis_dec = analysis_dec[analysis_dec[\"Username\"] != \"jp.5 -HANWASH\"]\n",
    "\n",
    "# For analysis_nov\n",
    "if \"jp.5 -HANWASH\" in analysis_nov[\"Username\"].values and \"Jan.Pooley\" in analysis_nov[\"Username\"].values:\n",
    "    analysis_nov = analysis_nov[analysis_nov[\"Username\"] != \"jp.5 -HANWASH\"]\n",
    "\n",
    "# For analysis_since_nov\n",
    "if \"jp.5 -HANWASH\" in analysis_since_nov[\"Username\"].values and \"Jan.Pooley\" in analysis_since_nov[\"Username\"].values:\n",
    "    analysis_since_nov = analysis_since_nov[analysis_since_nov[\"Username\"] != \"jp.5 -HANWASH\"]\n"
   ]
  },
  {
   "cell_type": "code",
   "execution_count": 10,
   "metadata": {},
   "outputs": [],
   "source": [
    "usage_analysis_nov = analysis_nov.pivot_table(\n",
    "    values= \"is_duplicated\",\n",
    "    index = \"Key_stakeholders\",\n",
    "    aggfunc= \"count\",\n",
    "    fill_value=0,\n",
    "    margins= True,\n",
    "    margins_name=\"Total\"\n",
    ")\n",
    "usage_analysis_nov.rename(\n",
    "    columns={\n",
    "        \"is_duplicated\":\"Number of Active Users for the month of November 2024\"\n",
    "    },\n",
    "    inplace=True\n",
    ")\n"
   ]
  },
  {
   "cell_type": "code",
   "execution_count": 11,
   "metadata": {},
   "outputs": [],
   "source": [
    "usage_analysis_dec = analysis_dec.pivot_table(\n",
    "    values= \"is_duplicated\",\n",
    "    index = \"Key_stakeholders\",\n",
    "    aggfunc= \"count\",\n",
    "    fill_value=0,\n",
    "    margins= True,\n",
    "    margins_name=\"Total\"\n",
    ")\n",
    "usage_analysis_dec.rename(\n",
    "    columns={\n",
    "        \"is_duplicated\":\"Number of Active Users for the month of December 2024\"\n",
    "    },\n",
    "    inplace=True\n",
    ")"
   ]
  },
  {
   "cell_type": "code",
   "execution_count": 12,
   "metadata": {},
   "outputs": [],
   "source": [
    "usage_analysis_since_nov = analysis_since_nov.pivot_table(\n",
    "    values= \"is_duplicated\",\n",
    "    index = \"Key_stakeholders\",\n",
    "    aggfunc= \"count\",\n",
    "    fill_value=0,\n",
    "    margins= True,\n",
    "    margins_name=\"Total\"\n",
    ")\n",
    "usage_analysis_since_nov.rename(\n",
    "    columns={\n",
    "        \"is_duplicated\":\"Number of Active Users since 1 November 2024\"\n",
    "    },\n",
    "    inplace=True\n",
    ")"
   ]
  },
  {
   "cell_type": "code",
   "execution_count": 13,
   "metadata": {},
   "outputs": [
    {
     "data": {
      "text/html": [
       "<div>\n",
       "<style scoped>\n",
       "    .dataframe tbody tr th:only-of-type {\n",
       "        vertical-align: middle;\n",
       "    }\n",
       "\n",
       "    .dataframe tbody tr th {\n",
       "        vertical-align: top;\n",
       "    }\n",
       "\n",
       "    .dataframe thead th {\n",
       "        text-align: right;\n",
       "    }\n",
       "</style>\n",
       "<table border=\"1\" class=\"dataframe\">\n",
       "  <thead>\n",
       "    <tr style=\"text-align: right;\">\n",
       "      <th></th>\n",
       "      <th>Number of Active Users for the month of December 2024</th>\n",
       "      <th>Percentage of Active Users for the month of December 2024</th>\n",
       "    </tr>\n",
       "    <tr>\n",
       "      <th>Key_stakeholders</th>\n",
       "      <th></th>\n",
       "      <th></th>\n",
       "    </tr>\n",
       "  </thead>\n",
       "  <tbody>\n",
       "    <tr>\n",
       "      <th>no</th>\n",
       "      <td>4</td>\n",
       "      <td>14%</td>\n",
       "    </tr>\n",
       "    <tr>\n",
       "      <th>yes</th>\n",
       "      <td>25</td>\n",
       "      <td>86%</td>\n",
       "    </tr>\n",
       "    <tr>\n",
       "      <th>Total</th>\n",
       "      <td>29</td>\n",
       "      <td>100%</td>\n",
       "    </tr>\n",
       "  </tbody>\n",
       "</table>\n",
       "</div>"
      ],
      "text/plain": [
       "                  Number of Active Users for the month of December 2024  \\\n",
       "Key_stakeholders                                                          \n",
       "no                                                                4       \n",
       "yes                                                              25       \n",
       "Total                                                            29       \n",
       "\n",
       "                 Percentage of Active Users for the month of December 2024  \n",
       "Key_stakeholders                                                            \n",
       "no                                                              14%         \n",
       "yes                                                             86%         \n",
       "Total                                                          100%         "
      ]
     },
     "execution_count": 13,
     "metadata": {},
     "output_type": "execute_result"
    }
   ],
   "source": [
    "# Add a percentage column based on the Total row\n",
    "usage_analysis_dec[\"Percentage of Active Users for the month of December 2024\"] = (\n",
    "    usage_analysis_dec[\"Number of Active Users for the month of December 2024\"] \n",
    "    / usage_analysis_dec.loc[\"Total\", \"Number of Active Users for the month of December 2024\"] * 100\n",
    ").round(0).astype(int).astype(str) + \"%\"\n",
    "\n",
    "#usage_analysis_dec.loc[\"Total\", \"Percentage of Active Users for the month of December 2024\"] = \"100%\"\n",
    "\n",
    "usage_analysis_dec"
   ]
  },
  {
   "cell_type": "code",
   "execution_count": 14,
   "metadata": {},
   "outputs": [
    {
     "data": {
      "text/html": [
       "<div>\n",
       "<style scoped>\n",
       "    .dataframe tbody tr th:only-of-type {\n",
       "        vertical-align: middle;\n",
       "    }\n",
       "\n",
       "    .dataframe tbody tr th {\n",
       "        vertical-align: top;\n",
       "    }\n",
       "\n",
       "    .dataframe thead th {\n",
       "        text-align: right;\n",
       "    }\n",
       "</style>\n",
       "<table border=\"1\" class=\"dataframe\">\n",
       "  <thead>\n",
       "    <tr style=\"text-align: right;\">\n",
       "      <th></th>\n",
       "      <th>Number of Active Users for the month of November 2024</th>\n",
       "      <th>Percentage of Active Users for the month of November 2024</th>\n",
       "    </tr>\n",
       "    <tr>\n",
       "      <th>Key_stakeholders</th>\n",
       "      <th></th>\n",
       "      <th></th>\n",
       "    </tr>\n",
       "  </thead>\n",
       "  <tbody>\n",
       "    <tr>\n",
       "      <th>no</th>\n",
       "      <td>1</td>\n",
       "      <td>5%</td>\n",
       "    </tr>\n",
       "    <tr>\n",
       "      <th>yes</th>\n",
       "      <td>19</td>\n",
       "      <td>95%</td>\n",
       "    </tr>\n",
       "    <tr>\n",
       "      <th>Total</th>\n",
       "      <td>20</td>\n",
       "      <td>100%</td>\n",
       "    </tr>\n",
       "  </tbody>\n",
       "</table>\n",
       "</div>"
      ],
      "text/plain": [
       "                  Number of Active Users for the month of November 2024  \\\n",
       "Key_stakeholders                                                          \n",
       "no                                                                1       \n",
       "yes                                                              19       \n",
       "Total                                                            20       \n",
       "\n",
       "                 Percentage of Active Users for the month of November 2024  \n",
       "Key_stakeholders                                                            \n",
       "no                                                               5%         \n",
       "yes                                                             95%         \n",
       "Total                                                          100%         "
      ]
     },
     "execution_count": 14,
     "metadata": {},
     "output_type": "execute_result"
    }
   ],
   "source": [
    "# Add a percentage column based on the Total row\n",
    "usage_analysis_nov[\"Percentage of Active Users for the month of November 2024\"] = (\n",
    "    usage_analysis_nov[\"Number of Active Users for the month of November 2024\"] \n",
    "    / usage_analysis_nov.loc[\"Total\", \"Number of Active Users for the month of November 2024\"] * 100\n",
    ").round(0).astype(int).astype(str) + \"%\"\n",
    "\n",
    "#usage_analysis_nov.loc[\"Total\", \"Percentage of Active Users for the month of November 2024\"] = \"100%\"\n",
    "\n",
    "usage_analysis_nov"
   ]
  },
  {
   "cell_type": "code",
   "execution_count": 15,
   "metadata": {},
   "outputs": [
    {
     "data": {
      "text/html": [
       "<div>\n",
       "<style scoped>\n",
       "    .dataframe tbody tr th:only-of-type {\n",
       "        vertical-align: middle;\n",
       "    }\n",
       "\n",
       "    .dataframe tbody tr th {\n",
       "        vertical-align: top;\n",
       "    }\n",
       "\n",
       "    .dataframe thead th {\n",
       "        text-align: right;\n",
       "    }\n",
       "</style>\n",
       "<table border=\"1\" class=\"dataframe\">\n",
       "  <thead>\n",
       "    <tr style=\"text-align: right;\">\n",
       "      <th></th>\n",
       "      <th>Number of Active Users since 1 November 2024</th>\n",
       "      <th>Percentage of Active Users Since 1 November 2024</th>\n",
       "    </tr>\n",
       "    <tr>\n",
       "      <th>Key_stakeholders</th>\n",
       "      <th></th>\n",
       "      <th></th>\n",
       "    </tr>\n",
       "  </thead>\n",
       "  <tbody>\n",
       "    <tr>\n",
       "      <th>no</th>\n",
       "      <td>5</td>\n",
       "      <td>10%</td>\n",
       "    </tr>\n",
       "    <tr>\n",
       "      <th>yes</th>\n",
       "      <td>44</td>\n",
       "      <td>90%</td>\n",
       "    </tr>\n",
       "    <tr>\n",
       "      <th>Total</th>\n",
       "      <td>49</td>\n",
       "      <td>100%</td>\n",
       "    </tr>\n",
       "  </tbody>\n",
       "</table>\n",
       "</div>"
      ],
      "text/plain": [
       "                  Number of Active Users since 1 November 2024  \\\n",
       "Key_stakeholders                                                 \n",
       "no                                                           5   \n",
       "yes                                                         44   \n",
       "Total                                                       49   \n",
       "\n",
       "                 Percentage of Active Users Since 1 November 2024  \n",
       "Key_stakeholders                                                   \n",
       "no                                                            10%  \n",
       "yes                                                           90%  \n",
       "Total                                                        100%  "
      ]
     },
     "execution_count": 15,
     "metadata": {},
     "output_type": "execute_result"
    }
   ],
   "source": [
    "# Add a percentage column based on the Total row\n",
    "usage_analysis_since_nov[\"Percentage of Active Users Since 1 November 2024\"] = (\n",
    "    usage_analysis_since_nov[\"Number of Active Users since 1 November 2024\"] \n",
    "    / usage_analysis_since_nov.loc[\"Total\", \"Number of Active Users since 1 November 2024\"] * 100\n",
    ").round(0).astype(int).astype(str) + \"%\"\n",
    "\n",
    "#usage_analysis_since_nov.loc[\"Total\", \"Percentage of Active Users for the month of Since 1 November 2024\"] = \"100%\"\n",
    "\n",
    "usage_analysis_since_nov"
   ]
  },
  {
   "cell_type": "code",
   "execution_count": 16,
   "metadata": {},
   "outputs": [],
   "source": [
    "#usage_analysis\n",
    "analysis_nov.drop(columns=[\"is_duplicated\"],axis=1, inplace=True)\n",
    "analysis_dec.drop(columns=[\"is_duplicated\"],axis=1, inplace=True)\n",
    "analysis_since_nov.drop(columns=[\"is_duplicated\"],axis=1, inplace=True)"
   ]
  },
  {
   "cell_type": "code",
   "execution_count": 17,
   "metadata": {},
   "outputs": [],
   "source": [
    "from pandas import ExcelWriter\n",
    "\n",
    "with ExcelWriter(f\"./mWater_usage_report_{date_du_jour}.xlsx\", engine=\"openpyxl\") as writer:\n",
    "    usage_analysis_dec.to_excel(writer, sheet_name=\"Summary\", startrow=0, index=True, na_rep=\"\")\n",
    "    \n",
    "    next_row = usage_analysis_dec.shape[0] + 5\n",
    "    usage_analysis_nov.to_excel(writer, sheet_name=\"Summary\", startrow=next_row, index=True, na_rep=\"\")\n",
    "    \n",
    "    next_row += usage_analysis_nov.shape[0] + 5\n",
    "    usage_analysis_since_nov.to_excel(writer, sheet_name=\"Summary\", startrow=next_row, index=True, na_rep=\"\")\n",
    "    \n",
    "    analysis_dec.to_excel(writer, sheet_name=\"List of Users Dec\", index=False, na_rep=\"\")\n",
    "    analysis_nov.to_excel(writer, sheet_name=\"List of Users Nov\", index=False, na_rep=\"\")\n",
    "    analysis_since_nov.to_excel(writer, sheet_name=\"List of Users since 1 November\", index=False, na_rep=\"\")\n"
   ]
  },
  {
   "cell_type": "code",
   "execution_count": 23,
   "metadata": {},
   "outputs": [],
   "source": []
  },
  {
   "cell_type": "code",
   "execution_count": null,
   "metadata": {},
   "outputs": [],
   "source": []
  }
 ],
 "metadata": {
  "kernelspec": {
   "display_name": "Python 3",
   "language": "python",
   "name": "python3"
  },
  "language_info": {
   "codemirror_mode": {
    "name": "ipython",
    "version": 3
   },
   "file_extension": ".py",
   "mimetype": "text/x-python",
   "name": "python",
   "nbconvert_exporter": "python",
   "pygments_lexer": "ipython3",
   "version": "3.13.0"
  }
 },
 "nbformat": 4,
 "nbformat_minor": 2
}
