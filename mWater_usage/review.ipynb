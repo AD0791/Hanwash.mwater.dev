{
 "cells": [
  {
   "cell_type": "code",
   "execution_count": 1,
   "metadata": {},
   "outputs": [],
   "source": [
    "import pandas as pd\n",
    "import os\n",
    "import matplotlib.pyplot as plt\n",
    "from IPython.core.interactiveshell import InteractiveShell\n",
    "InteractiveShell.ast_node_interactivity = \"all\"\n"
   ]
  },
  {
   "cell_type": "code",
   "execution_count": 2,
   "metadata": {},
   "outputs": [],
   "source": [
    "file_path = './reports/user_mwater_data.xlsx'\n",
    "complete_data = pd.read_excel(file_path)"
   ]
  },
  {
   "cell_type": "code",
   "execution_count": 3,
   "metadata": {},
   "outputs": [],
   "source": [
    "# Create a clean_data dataset by deduplicating based on 'user_ID'\n",
    "clean_data = complete_data.drop_duplicates(subset='user_ID', keep='last')\n"
   ]
  },
  {
   "cell_type": "code",
   "execution_count": 4,
   "metadata": {},
   "outputs": [
    {
     "data": {
      "text/plain": [
       "(90, 18)"
      ]
     },
     "execution_count": 4,
     "metadata": {},
     "output_type": "execute_result"
    },
    {
     "data": {
      "text/plain": [
       "(171, 18)"
      ]
     },
     "execution_count": 4,
     "metadata": {},
     "output_type": "execute_result"
    }
   ],
   "source": [
    "clean_data.shape\n",
    "complete_data.shape"
   ]
  },
  {
   "cell_type": "code",
   "execution_count": null,
   "metadata": {},
   "outputs": [
    {
     "name": "stderr",
     "output_type": "stream",
     "text": [
      "/var/folders/7v/rs0k237d6nj3vdxfc1h7xtcw0000gn/T/ipykernel_80608/4223700939.py:2: SettingWithCopyWarning: \n",
      "A value is trying to be set on a copy of a slice from a DataFrame.\n",
      "Try using .loc[row_indexer,col_indexer] = value instead\n",
      "\n",
      "See the caveats in the documentation: https://pandas.pydata.org/pandas-docs/stable/user_guide/indexing.html#returning-a-view-versus-a-copy\n",
      "  clean_data['Last Activity'] = pd.to_datetime(clean_data['Last Activity'], errors='coerce').dt.tz_localize(None)\n"
     ]
    }
   ],
   "source": [
    "# Convert 'Last Activity' to naive datetime (without timezone) for consistency\n",
    "clean_data['Last Activity'] = pd.to_datetime(clean_data['Last Activity'], errors='coerce').dt.tz_localize(None)\n",
    "\n",
    "# Define the 12-month cutoff using naive datetime for consistency\n",
    "cutoff_date = pd.Timestamp.now().tz_localize(None) - pd.DateOffset(months=12)\n"
   ]
  },
  {
   "cell_type": "markdown",
   "metadata": {},
   "source": [
    "## active_users_12_months"
   ]
  },
  {
   "cell_type": "code",
   "execution_count": null,
   "metadata": {},
   "outputs": [
    {
     "data": {
      "text/plain": [
       "52"
      ]
     },
     "execution_count": 6,
     "metadata": {},
     "output_type": "execute_result"
    }
   ],
   "source": [
    "active_users_12_months = clean_data[clean_data['Last Activity'] >= cutoff_date]\n",
    "num_active_users_12_months = len(active_users_12_months)\n",
    "num_active_users_12_months"
   ]
  },
  {
   "cell_type": "markdown",
   "metadata": {},
   "source": [
    "## 7 days"
   ]
  },
  {
   "cell_type": "code",
   "execution_count": null,
   "metadata": {},
   "outputs": [
    {
     "data": {
      "text/plain": [
       "13"
      ]
     },
     "execution_count": 7,
     "metadata": {},
     "output_type": "execute_result"
    }
   ],
   "source": [
    "# Total unique active users (either app or portal)\n",
    "total_active_users = len(clean_data[(clean_data['Portal Activity 7 days'] > 0) | (clean_data['App Activity 7 days'] > 0)])\n",
    "total_active_users\n",
    "active_users = clean_data[(clean_data['Portal Activity 7 days'] > 0) | (clean_data['App Activity 7 days'] > 0)]"
   ]
  },
  {
   "cell_type": "code",
   "execution_count": 8,
   "metadata": {},
   "outputs": [
    {
     "data": {
      "text/plain": [
       "11"
      ]
     },
     "execution_count": 8,
     "metadata": {},
     "output_type": "execute_result"
    },
    {
     "data": {
      "text/plain": [
       "4"
      ]
     },
     "execution_count": 8,
     "metadata": {},
     "output_type": "execute_result"
    }
   ],
   "source": [
    "# Corrected calculation for active users in the portal and app (instead of summing the activity)\n",
    "portal_active_users = clean_data[clean_data['Portal Activity 7 days'] > 0]\n",
    "app_active_users = clean_data[clean_data['App Activity 7 days'] > 0]\n",
    "total_portal_active_users = portal_active_users.shape[0]\n",
    "total_app_active_users = app_active_users.shape[0]\n",
    "\n",
    "total_portal_active_users\n",
    "total_app_active_users"
   ]
  },
  {
   "cell_type": "code",
   "execution_count": null,
   "metadata": {},
   "outputs": [
    {
     "data": {
      "text/plain": [
       "2"
      ]
     },
     "execution_count": 9,
     "metadata": {},
     "output_type": "execute_result"
    }
   ],
   "source": [
    "# remove extra\n",
    "app_active_users = app_active_users[~(app_active_users.user_ID.isin(portal_active_users.user_ID))]\n",
    "app_active_users.shape[0]\n",
    "total_app_active_users = app_active_users.shape[0]"
   ]
  },
  {
   "cell_type": "code",
   "execution_count": 10,
   "metadata": {},
   "outputs": [
    {
     "data": {
      "text/plain": [
       "85"
      ]
     },
     "execution_count": 10,
     "metadata": {},
     "output_type": "execute_result"
    },
    {
     "data": {
      "text/plain": [
       "15"
      ]
     },
     "execution_count": 10,
     "metadata": {},
     "output_type": "execute_result"
    }
   ],
   "source": [
    "# Calculate percentages\n",
    "portal_usage_percentage = (total_portal_active_users / total_active_users) * 100 if total_active_users > 0 else 0\n",
    "app_usage_percentage = (total_app_active_users / total_active_users) * 100 if total_active_users > 0 else 0\n",
    "\n",
    "round(portal_usage_percentage)\n",
    "round(app_usage_percentage)\n",
    "\n",
    "portal_usage_percentage = round(portal_usage_percentage)\n",
    "\n",
    "app_usage_percentage = round(app_usage_percentage)\n"
   ]
  },
  {
   "cell_type": "code",
   "execution_count": null,
   "metadata": {},
   "outputs": [
    {
     "data": {
      "text/plain": [
       "77"
      ]
     },
     "execution_count": 11,
     "metadata": {},
     "output_type": "execute_result"
    }
   ],
   "source": [
    "# Number of inactive users overall (users with no activity in both app and portal)\n",
    "inactive_users = clean_data[(clean_data['App Activity 7 days'] == 0) & (clean_data['Portal Activity 7 days'] == 0)]\n",
    "num_inactive_users = len(inactive_users)\n",
    "num_inactive_users"
   ]
  },
  {
   "cell_type": "code",
   "execution_count": 12,
   "metadata": {},
   "outputs": [
    {
     "data": {
      "text/plain": [
       "\"\\n# Active and inactive users by committee (excluding HANWASH)\\nactive_users_by_committee_no_hanwash = active_users[committee_columns_no_hanwash].apply(lambda col: (col == 'Yes').sum())\\ninactive_users_by_committee_no_hanwash = inactive_users[committee_columns_no_hanwash].apply(lambda col: (col == 'Yes').sum())\\n\\n# Calculate the percentage of active users in each committee (excluding HANWASH)\\nactive_users_percentage_by_committee_no_hanwash = (active_users_by_committee_no_hanwash / active_users.shape[0]) * 100\\nactive_users_percentage_by_committee_no_hanwash \""
      ]
     },
     "execution_count": 12,
     "metadata": {},
     "output_type": "execute_result"
    }
   ],
   "source": [
    "# Exclude the 'HANWASH' column from the committee analysis\n",
    "committee_columns_no_hanwash = [\n",
    "    'Ambassadors', 'Champion Partnerships', 'D7020 Engagement', 'Executive', 'Finance Legal and Admin',\n",
    "    'Haiti Liaison', 'MAGEPA', 'Marketing and Donor Relations', 'Monitoring and Evaluation',\n",
    "    'Projects Support Subcommittee', 'Steering Committee'\n",
    "]\n",
    "\"\"\"\n",
    "# Active and inactive users by committee (excluding HANWASH)\n",
    "active_users_by_committee_no_hanwash = active_users[committee_columns_no_hanwash].apply(lambda col: (col == 'Yes').sum())\n",
    "inactive_users_by_committee_no_hanwash = inactive_users[committee_columns_no_hanwash].apply(lambda col: (col == 'Yes').sum())\n",
    "\n",
    "# Calculate the percentage of active users in each committee (excluding HANWASH)\n",
    "active_users_percentage_by_committee_no_hanwash = (active_users_by_committee_no_hanwash / active_users.shape[0]) * 100\n",
    "active_users_percentage_by_committee_no_hanwash \"\"\""
   ]
  },
  {
   "cell_type": "code",
   "execution_count": 13,
   "metadata": {},
   "outputs": [
    {
     "name": "stderr",
     "output_type": "stream",
     "text": [
      "/var/folders/7v/rs0k237d6nj3vdxfc1h7xtcw0000gn/T/ipykernel_80608/898586387.py:22: DeprecationWarning: DataFrameGroupBy.apply operated on the grouping columns. This behavior is deprecated, and in a future version of pandas the grouping columns will be excluded from the operation. Either pass `include_groups=False` to exclude the groupings or explicitly select the grouping columns after groupby to silence this warning.\n",
      "  unique_user_committees = lookup_table.groupby('user_ID').apply(concatenate_committees).reset_index()\n"
     ]
    },
    {
     "data": {
      "text/html": [
       "<div>\n",
       "<style scoped>\n",
       "    .dataframe tbody tr th:only-of-type {\n",
       "        vertical-align: middle;\n",
       "    }\n",
       "\n",
       "    .dataframe tbody tr th {\n",
       "        vertical-align: top;\n",
       "    }\n",
       "\n",
       "    .dataframe thead th {\n",
       "        text-align: right;\n",
       "    }\n",
       "</style>\n",
       "<table border=\"1\" class=\"dataframe\">\n",
       "  <thead>\n",
       "    <tr style=\"text-align: right;\">\n",
       "      <th></th>\n",
       "      <th>user_ID</th>\n",
       "      <th>Username</th>\n",
       "      <th>committees</th>\n",
       "    </tr>\n",
       "  </thead>\n",
       "  <tbody>\n",
       "    <tr>\n",
       "      <th>0</th>\n",
       "      <td>0</td>\n",
       "      <td>AAB_Aquora</td>\n",
       "      <td>HANWASH</td>\n",
       "    </tr>\n",
       "    <tr>\n",
       "      <th>1</th>\n",
       "      <td>1</td>\n",
       "      <td>AernoutK</td>\n",
       "      <td>D7020 Engagement, Steering Committee</td>\n",
       "    </tr>\n",
       "    <tr>\n",
       "      <th>2</th>\n",
       "      <td>2</td>\n",
       "      <td>Alex Bonhomme</td>\n",
       "      <td>, Executive, Monitoring and Evaluation, Steeri...</td>\n",
       "    </tr>\n",
       "    <tr>\n",
       "      <th>3</th>\n",
       "      <td>3</td>\n",
       "      <td>B.Stewart</td>\n",
       "      <td>HANWASH</td>\n",
       "    </tr>\n",
       "    <tr>\n",
       "      <th>4</th>\n",
       "      <td>4</td>\n",
       "      <td>Barb S.</td>\n",
       "      <td>HANWASH</td>\n",
       "    </tr>\n",
       "    <tr>\n",
       "      <th>...</th>\n",
       "      <td>...</td>\n",
       "      <td>...</td>\n",
       "      <td>...</td>\n",
       "    </tr>\n",
       "    <tr>\n",
       "      <th>85</th>\n",
       "      <td>85</td>\n",
       "      <td>tedkirchharr</td>\n",
       "      <td>HANWASH</td>\n",
       "    </tr>\n",
       "    <tr>\n",
       "      <th>86</th>\n",
       "      <td>86</td>\n",
       "      <td>wacarlton</td>\n",
       "      <td>HANWASH</td>\n",
       "    </tr>\n",
       "    <tr>\n",
       "      <th>87</th>\n",
       "      <td>87</td>\n",
       "      <td>washdominique</td>\n",
       "      <td>D7020 Engagement, Steering Committee</td>\n",
       "    </tr>\n",
       "    <tr>\n",
       "      <th>88</th>\n",
       "      <td>88</td>\n",
       "      <td>websterlie</td>\n",
       "      <td>Ambassadors, Steering Committee</td>\n",
       "    </tr>\n",
       "    <tr>\n",
       "      <th>89</th>\n",
       "      <td>89</td>\n",
       "      <td>wenderson02</td>\n",
       "      <td>HANWASH</td>\n",
       "    </tr>\n",
       "  </tbody>\n",
       "</table>\n",
       "<p>90 rows × 3 columns</p>\n",
       "</div>"
      ],
      "text/plain": [
       "    user_ID       Username                                         committees\n",
       "0         0     AAB_Aquora                                            HANWASH\n",
       "1         1       AernoutK               D7020 Engagement, Steering Committee\n",
       "2         2  Alex Bonhomme  , Executive, Monitoring and Evaluation, Steeri...\n",
       "3         3      B.Stewart                                            HANWASH\n",
       "4         4        Barb S.                                            HANWASH\n",
       "..      ...            ...                                                ...\n",
       "85       85   tedkirchharr                                            HANWASH\n",
       "86       86      wacarlton                                            HANWASH\n",
       "87       87  washdominique               D7020 Engagement, Steering Committee\n",
       "88       88     websterlie                    Ambassadors, Steering Committee\n",
       "89       89    wenderson02                                            HANWASH\n",
       "\n",
       "[90 rows x 3 columns]"
      ]
     },
     "execution_count": 13,
     "metadata": {},
     "output_type": "execute_result"
    }
   ],
   "source": [
    "# Create the lookup table\n",
    "# For each user, concatenate the committees they are involved in ('Yes' values in committee columns)\n",
    "complete_data['committees'] = complete_data[committee_columns_no_hanwash].apply(\n",
    "    lambda row: ', '.join([committee for committee, involvement in row.items() if involvement == 'Yes']),\n",
    "    axis=1\n",
    ")\n",
    "\n",
    "# Select the relevant columns: user_ID, username, and the concatenated committees\n",
    "lookup_table = complete_data[['user_ID', 'Username', 'committees']]\n",
    "# Group the data by user_ID and concatenate committees without repetition\n",
    "# We will group by 'user_ID' and 'Username', and then concatenate the unique committee involvements.\n",
    "\n",
    "def concatenate_committees(group):\n",
    "    # For each group (user), concatenate the unique committee names\n",
    "    committees = ', '.join(sorted(set(', '.join(group['committees']).split(', '))))\n",
    "    return pd.Series({\n",
    "        'Username': group['Username'].iloc[0], \n",
    "        'committees': committees\n",
    "    })\n",
    "\n",
    "# Apply the group by operation and concatenate committees for each unique user\n",
    "unique_user_committees = lookup_table.groupby('user_ID').apply(concatenate_committees).reset_index()\n",
    "# Replace empty rows in the 'committees' column with 'HANWASH'\n",
    "unique_user_committees['committees'] = unique_user_committees['committees'].replace('', 'HANWASH')\n",
    "\n",
    "unique_user_committees"
   ]
  },
  {
   "cell_type": "code",
   "execution_count": 14,
   "metadata": {},
   "outputs": [],
   "source": [
    "inactive_members_committees = inactive_users[['user_ID','Username']].merge(unique_user_committees[['user_ID','committees']],how='left', on='user_ID' )\n",
    "active_members_committees =active_users[['user_ID','Username']].merge(unique_user_committees[['user_ID','committees']],how='left', on='user_ID' )"
   ]
  },
  {
   "cell_type": "code",
   "execution_count": 15,
   "metadata": {},
   "outputs": [],
   "source": [
    "# Ensure that the 'reports' directory exists\n",
    "output_dir = './reports'\n",
    "if not os.path.exists(output_dir):\n",
    "    os.makedirs(output_dir)\n"
   ]
  },
  {
   "cell_type": "code",
   "execution_count": 16,
   "metadata": {},
   "outputs": [
    {
     "data": {
      "text/plain": [
       "58"
      ]
     },
     "execution_count": 16,
     "metadata": {},
     "output_type": "execute_result"
    }
   ],
   "source": [
    "past_overall_percentage = (num_active_users_12_months/clean_data.shape[0])*100\n",
    "past_overall_percentage = round(past_overall_percentage)\n",
    "past_overall_percentage"
   ]
  },
  {
   "cell_type": "code",
   "execution_count": 17,
   "metadata": {},
   "outputs": [
    {
     "data": {
      "text/plain": [
       "14"
      ]
     },
     "execution_count": 17,
     "metadata": {},
     "output_type": "execute_result"
    }
   ],
   "source": [
    "overall_percentage = (total_active_users/clean_data.shape[0])*100\n",
    "overall_percentage = round(overall_percentage)\n",
    "overall_percentage"
   ]
  },
  {
   "cell_type": "code",
   "execution_count": 18,
   "metadata": {},
   "outputs": [
    {
     "data": {
      "text/plain": [
       "\" # Write committee analysis excluding HANWASH\\n    active_users_by_committee_no_hanwash.to_frame(name='Active Users Count').to_excel(writer, sheet_name='Active Users Committees', index=True)\\n    inactive_users_by_committee_no_hanwash.to_frame(name='Inactive Users Count').to_excel(writer, sheet_name='Inactive Users Committees', index=True)\\n\\n    # Insert the updated percentage bar chart excluding HANWASH\\n    worksheet_percentage_bar_chart_no_hanwash = writer.book.add_worksheet('Percentage Active Excl HANWASH')\\n    worksheet_percentage_bar_chart_no_hanwash.insert_image('B2', percentage_bar_chart_image_no_hanwash)\\n\\n    # Insert the overall pie chart for active users vs total users\\n    worksheet_overall_pie_chart = writer.book.add_worksheet('Active vs Total Pie Chart')\\n    worksheet_overall_pie_chart.insert_image('B2', overall_pie_chart_image) \""
      ]
     },
     "execution_count": 18,
     "metadata": {},
     "output_type": "execute_result"
    },
    {
     "name": "stdout",
     "output_type": "stream",
     "text": [
      "Final report (excluding HANWASH) generated at: ./reports/mWater_usage_reports_final_excluding_hanwash.xlsx\n"
     ]
    }
   ],
   "source": [
    "# Now update the report by removing HANWASH from all committee analyses and charts\n",
    "output_file_excluding_hanwash = os.path.join(output_dir, 'mWater_usage_reports_final_excluding_hanwash.xlsx')\n",
    "\n",
    "with pd.ExcelWriter(output_file_excluding_hanwash, engine='xlsxwriter') as writer:\n",
    "\n",
    "    # Write active user analysis to a sheet\n",
    "    pd.DataFrame({\n",
    "        'Metric': [\n",
    "            'Number of Active Users last 12 month',\n",
    "            'Number of Active Users last 7 days', \n",
    "            'Number of Inactive Users last 7 days',\n",
    "            'Number of Active Portal Users last 7 days', \n",
    "            'Number of Active App Users last 7 days',\n",
    "            'Overall Usage Percentage last 7 days',\n",
    "            'Overall Usage Percentage last 12 months',\n",
    "        ],\n",
    "        'Value': [\n",
    "            num_active_users_12_months,\n",
    "            total_active_users, \n",
    "            num_inactive_users,\n",
    "            total_portal_active_users, \n",
    "            total_app_active_users, \n",
    "            f\"{overall_percentage} %\",\n",
    "            f\"{past_overall_percentage} %\",\n",
    "        ]\n",
    "    }).to_excel(writer, sheet_name='Usage Summary', index=False)\n",
    "\n",
    "    inactive_members_committees.to_excel(writer, sheet_name='inactive_members_committees', index=False)\n",
    "\n",
    "    active_members_committees.to_excel(writer, sheet_name='active_members_committees', index=False)\n",
    "\n",
    "    # Write clean_data with deduplication summary\n",
    "    clean_data.to_excel(writer, sheet_name='Clean Data', index=False)\n",
    "\n",
    "    \"\"\" # Write committee analysis excluding HANWASH\n",
    "    active_users_by_committee_no_hanwash.to_frame(name='Active Users Count').to_excel(writer, sheet_name='Active Users Committees', index=True)\n",
    "    inactive_users_by_committee_no_hanwash.to_frame(name='Inactive Users Count').to_excel(writer, sheet_name='Inactive Users Committees', index=True)\n",
    "\n",
    "    # Insert the updated percentage bar chart excluding HANWASH\n",
    "    worksheet_percentage_bar_chart_no_hanwash = writer.book.add_worksheet('Percentage Active Excl HANWASH')\n",
    "    worksheet_percentage_bar_chart_no_hanwash.insert_image('B2', percentage_bar_chart_image_no_hanwash)\n",
    "\n",
    "    # Insert the overall pie chart for active users vs total users\n",
    "    worksheet_overall_pie_chart = writer.book.add_worksheet('Active vs Total Pie Chart')\n",
    "    worksheet_overall_pie_chart.insert_image('B2', overall_pie_chart_image) \"\"\"\n",
    "\n",
    "print(f\"Final report (excluding HANWASH) generated at: {output_file_excluding_hanwash}\")\n"
   ]
  },
  {
   "cell_type": "code",
   "execution_count": 19,
   "metadata": {},
   "outputs": [
    {
     "data": {
      "text/plain": [
       "\" # Create a Bar Chart for the percentage of active users by committee (excluding HANWASH)\\nfig, ax = plt.subplots(figsize=(10, 6))\\nax.barh(committee_columns_no_hanwash, active_users_percentage_by_committee_no_hanwash, color='#1f77b4')\\nax.set_xlabel('Percentage of Active Users (%)')\\nax.set_title('Percentage of Active Users by Committee (Excluding HANWASH)') \""
      ]
     },
     "execution_count": 19,
     "metadata": {},
     "output_type": "execute_result"
    }
   ],
   "source": [
    "\"\"\" # Create a Bar Chart for the percentage of active users by committee (excluding HANWASH)\n",
    "fig, ax = plt.subplots(figsize=(10, 6))\n",
    "ax.barh(committee_columns_no_hanwash, active_users_percentage_by_committee_no_hanwash, color='#1f77b4')\n",
    "ax.set_xlabel('Percentage of Active Users (%)')\n",
    "ax.set_title('Percentage of Active Users by Committee (Excluding HANWASH)') \"\"\""
   ]
  },
  {
   "cell_type": "code",
   "execution_count": 20,
   "metadata": {},
   "outputs": [
    {
     "data": {
      "text/plain": [
       "\" \\n# Save the updated percentage bar chart (excluding HANWASH)\\npercentage_bar_chart_image_no_hanwash = os.path.join(output_dir, 'percentage_active_committee_chart_no_hanwash.png')\\nplt.savefig(percentage_bar_chart_image_no_hanwash, bbox_inches='tight') \""
      ]
     },
     "execution_count": 20,
     "metadata": {},
     "output_type": "execute_result"
    }
   ],
   "source": [
    "\"\"\" \n",
    "# Save the updated percentage bar chart (excluding HANWASH)\n",
    "percentage_bar_chart_image_no_hanwash = os.path.join(output_dir, 'percentage_active_committee_chart_no_hanwash.png')\n",
    "plt.savefig(percentage_bar_chart_image_no_hanwash, bbox_inches='tight') \"\"\""
   ]
  },
  {
   "cell_type": "code",
   "execution_count": 21,
   "metadata": {},
   "outputs": [
    {
     "data": {
      "text/plain": [
       "\" # Calculate total unique users and percentage of active users in the past 12 months over total users\\ntotal_unique_users = clean_data.shape[0]\\nactive_users_percentage_overall = (num_active_users_12_months / total_unique_users) * 100\\n\\n# Create a pie chart showing active users vs. total users\\nfig, ax = plt.subplots()\\nax.pie([num_active_users_12_months, total_unique_users - num_active_users_12_months],\\n       labels=['Active Users (12 months)', 'Inactive/Other Users'], autopct='%1.1f%%', startangle=90, colors=['#1f77b4', '#ff7f0e'])\\nax.set_title('Active Users vs Total Users on Platform')\\n\\n# Save the overall pie chart\\noverall_pie_chart_image = os.path.join(output_dir, 'overall_active_users_pie.png')\\nplt.savefig(overall_pie_chart_image, bbox_inches='tight')\\n \""
      ]
     },
     "execution_count": 21,
     "metadata": {},
     "output_type": "execute_result"
    }
   ],
   "source": [
    "\"\"\" # Calculate total unique users and percentage of active users in the past 12 months over total users\n",
    "total_unique_users = clean_data.shape[0]\n",
    "active_users_percentage_overall = (num_active_users_12_months / total_unique_users) * 100\n",
    "\n",
    "# Create a pie chart showing active users vs. total users\n",
    "fig, ax = plt.subplots()\n",
    "ax.pie([num_active_users_12_months, total_unique_users - num_active_users_12_months],\n",
    "       labels=['Active Users (12 months)', 'Inactive/Other Users'], autopct='%1.1f%%', startangle=90, colors=['#1f77b4', '#ff7f0e'])\n",
    "ax.set_title('Active Users vs Total Users on Platform')\n",
    "\n",
    "# Save the overall pie chart\n",
    "overall_pie_chart_image = os.path.join(output_dir, 'overall_active_users_pie.png')\n",
    "plt.savefig(overall_pie_chart_image, bbox_inches='tight')\n",
    " \"\"\""
   ]
  },
  {
   "cell_type": "code",
   "execution_count": null,
   "metadata": {},
   "outputs": [],
   "source": []
  }
 ],
 "metadata": {
  "kernelspec": {
   "display_name": "Python 3",
   "language": "python",
   "name": "python3"
  },
  "language_info": {
   "codemirror_mode": {
    "name": "ipython",
    "version": 3
   },
   "file_extension": ".py",
   "mimetype": "text/x-python",
   "name": "python",
   "nbconvert_exporter": "python",
   "pygments_lexer": "ipython3",
   "version": "3.12.5"
  }
 },
 "nbformat": 4,
 "nbformat_minor": 2
}
