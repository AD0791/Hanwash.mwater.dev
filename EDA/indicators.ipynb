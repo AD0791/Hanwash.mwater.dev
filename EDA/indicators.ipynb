{
 "cells": [
  {
   "cell_type": "code",
   "execution_count": 1,
   "metadata": {},
   "outputs": [],
   "source": [
    "from IPython.core.interactiveshell import InteractiveShell\n",
    "InteractiveShell.ast_node_interactivity = \"all\"\n",
    "__version__='0.1.0'"
   ]
  },
  {
   "cell_type": "code",
   "execution_count": 2,
   "metadata": {},
   "outputs": [],
   "source": [
    "from pandas import DataFrame, read_excel\n",
    "import re\n",
    "import random"
   ]
  },
  {
   "cell_type": "code",
   "execution_count": 3,
   "metadata": {},
   "outputs": [],
   "source": [
    "def clean_text(text):\n",
    "    text = re.sub(r'\\n\\d+', '', text)  # Remove line breaks followed by digits\n",
    "    text = re.sub(r'\\n+', '', text)   # Replace lines breaks with a space\n",
    "    text = text.replace('nan', '')    # Optional: To handle the literal string 'nan'\n",
    "    text = text.replace('/', '')    # Optional: To handle the literal string 'nan'\n",
    "    return text"
   ]
  },
  {
   "cell_type": "code",
   "execution_count": 4,
   "metadata": {},
   "outputs": [],
   "source": [
    "class DataGenerator:\n",
    "    unit_rules = {\n",
    "        '-': [0, 0],\n",
    "        '%': [20, 100],\n",
    "        'volunteer hours / club / month': [1, 100],\n",
    "        'people': [1, 100],\n",
    "        'Training materials': [1, 20],\n",
    "        'Hours of training': [1, 40],\n",
    "        'communes': [1, 12],\n",
    "        'events/month': [1, 5],\n",
    "        'water systems': [1, 3],\n",
    "        'Days': [7, 21],\n",
    "        'water points': [1, 200],\n",
    "        'communities': [1, 200],\n",
    "        'toilet blocks': [1, 150],\n",
    "        'animators': [1, 100],\n",
    "        'Hours': [1, 100],\n",
    "        'schools': [1, 200],\n",
    "        'healthcare facilities': [1, 200],\n",
    "        'USD': [500, 20000],\n",
    "        'trainings': [1, 100]\n",
    "    }\n",
    "\n",
    "    @staticmethod\n",
    "    def generate_values(unit):\n",
    "        min_val, max_planned_value = DataGenerator.unit_rules[unit]\n",
    "\n",
    "        if unit == '-':\n",
    "            return '-', '-', '-'\n",
    "        elif unit == '%':\n",
    "            planned_value = max_planned_value\n",
    "            if min_val < planned_value:\n",
    "                baseline_value = random.randint(min_val, planned_value - 1)\n",
    "                current_value = random.randint(baseline_value + 1, planned_value)\n",
    "            else:\n",
    "                baseline_value = planned_value\n",
    "                current_value = planned_value\n",
    "            return baseline_value, planned_value, current_value\n",
    "        else:\n",
    "            # Ensure planned_value computation is within valid range\n",
    "            if max_planned_value - min_val >= 100:\n",
    "                planned_value = random.randint(min_val + 100, max_planned_value)\n",
    "            else:\n",
    "                planned_value = random.randint(min_val, max_planned_value)\n",
    "\n",
    "            # Generate baseline_value within a valid range\n",
    "            if min_val < planned_value:\n",
    "                baseline_value = random.randint(min_val, planned_value - 1)\n",
    "                \n",
    "                # Generate current_value within a valid range\n",
    "                if baseline_value + 1 < planned_value:\n",
    "                    current_value = random.randint(baseline_value + 1, planned_value - 1) if baseline_value + 1 < planned_value else baseline_value + 1\n",
    "                else:\n",
    "                    current_value = baseline_value + 1\n",
    "            else:\n",
    "                baseline_value = planned_value\n",
    "                current_value = planned_value\n",
    "                \n",
    "            return baseline_value, planned_value, current_value"
   ]
  },
  {
   "cell_type": "markdown",
   "metadata": {},
   "source": [
    "## Get the data sheet"
   ]
  },
  {
   "cell_type": "code",
   "execution_count": 5,
   "metadata": {},
   "outputs": [
    {
     "data": {
      "text/plain": [
       "['Type',\n",
       " 'Code',\n",
       " 'Description',\n",
       " 'Code_index',\n",
       " 'Indicator',\n",
       " 'Definitions',\n",
       " 'Units',\n",
       " 'Status',\n",
       " 'Program',\n",
       " '(Dis)Aggregation',\n",
       " 'Source_link',\n",
       " 'Enumerator',\n",
       " 'Frequency_time',\n",
       " 'Visualization_link',\n",
       " 'Source',\n",
       " 'Validator',\n",
       " 'Frequency',\n",
       " 'Visualization',\n",
       " 'Notes']"
      ]
     },
     "execution_count": 5,
     "metadata": {},
     "output_type": "execute_result"
    }
   ],
   "source": [
    "data = read_excel('hanwash_indicators.xlsx',sheet_name='data',parse_dates=True)\n",
    "data.columns.to_list()"
   ]
  },
  {
   "cell_type": "code",
   "execution_count": 6,
   "metadata": {},
   "outputs": [],
   "source": [
    "\n",
    "def fix_outcome(df):\n",
    "    if df['Category'] == \"Intermediate outcome\" or df['Category'] == \"Ultimate outcome\":\n",
    "        return df['Category_code']\n",
    "    else:\n",
    "        return df['index']\n",
    "\n"
   ]
  },
  {
   "cell_type": "markdown",
   "metadata": {},
   "source": [
    "## Parse to the desired format\n"
   ]
  },
  {
   "cell_type": "code",
   "execution_count": 7,
   "metadata": {},
   "outputs": [],
   "source": [
    "indicator_parse = DataFrame()"
   ]
  },
  {
   "cell_type": "code",
   "execution_count": 8,
   "metadata": {},
   "outputs": [],
   "source": [
    "indicator_parse[\"ID\"] = data.Code_index\n",
    "indicator_parse[\"Indicator_group\"] = data.Program\n",
    "indicator_parse[\"Category\"] = data.Type\n",
    "indicator_parse[\"Category_code\"] = data.Code\n",
    "indicator_parse[\"Category_code_description\"] = data.Description\n",
    "indicator_parse[\"Indicator\"] = data.Indicator\n",
    "indicator_parse[\"Definitions\"] = data.Definitions\n",
    "indicator_parse['Units'] = data.Units\n",
    "indicator_parse['index'] = data.Code_index\n",
    "\n"
   ]
  },
  {
   "cell_type": "code",
   "execution_count": 9,
   "metadata": {},
   "outputs": [],
   "source": [
    "indicator_parse.Definitions = indicator_parse.Definitions.astype(str)\n",
    "indicator_parse.Definitions = indicator_parse.Definitions.str.replace('\"', '')\n",
    "indicator_parse.Definitions = indicator_parse.Definitions.apply(clean_text)\n",
    "indicator_parse.Units= indicator_parse['Units'].apply(lambda x: '%' if '%' in x else x)"
   ]
  },
  {
   "cell_type": "code",
   "execution_count": 10,
   "metadata": {},
   "outputs": [
    {
     "name": "stderr",
     "output_type": "stream",
     "text": [
      "/var/folders/7v/rs0k237d6nj3vdxfc1h7xtcw0000gn/T/ipykernel_10777/3259466893.py:1: FutureWarning: DataFrame.applymap has been deprecated. Use DataFrame.map instead.\n",
      "  indicator_parse=indicator_parse.applymap(lambda x: x.strip() if type(x)==str else x)\n"
     ]
    }
   ],
   "source": [
    "indicator_parse=indicator_parse.applymap(lambda x: x.strip() if type(x)==str else x)"
   ]
  },
  {
   "cell_type": "code",
   "execution_count": 11,
   "metadata": {},
   "outputs": [],
   "source": [
    "# Apply the function to create new columns\n",
    "indicator_parse[['Baseline_value', 'Planned_value', 'Current_value']] = indicator_parse.apply(\n",
    "    lambda row: DataGenerator.generate_values(row['Units']), \n",
    "    axis=1, \n",
    "    result_type='expand'\n",
    ")\n"
   ]
  },
  {
   "cell_type": "code",
   "execution_count": 12,
   "metadata": {},
   "outputs": [],
   "source": [
    "indicator_parse['ID'] = indicator_parse.apply(\n",
    "    lambda df: fix_outcome(df), \n",
    "    axis=1, \n",
    "    result_type='expand'\n",
    ")\n",
    "indicator_parse.drop(columns=['index'],axis=1,inplace=True)\n",
    "indicator_parse.fillna(\"-\",inplace=True)"
   ]
  },
  {
   "cell_type": "code",
   "execution_count": null,
   "metadata": {},
   "outputs": [
    {
     "data": {
      "text/plain": [
       "Index(['ID', 'Category_code_description', 'Indicator', 'Definitions'], dtype='object')"
      ]
     },
     "execution_count": 13,
     "metadata": {},
     "output_type": "execute_result"
    }
   ],
   "source": [
    "indicator_corrige = read_excel(\"indicator_review_corrected.xlsx\",sheet_name=\"data_clean\")\n",
    "indicator_corrige.columns\n",
    "correct_definitions = indicator_corrige[['ID','Definitions']]\n",
    "indicator_parse  = indicator_parse.merge(correct_definitions,on=[\"ID\"],how='left')"
   ]
  },
  {
   "cell_type": "code",
   "execution_count": 14,
   "metadata": {},
   "outputs": [
    {
     "name": "stderr",
     "output_type": "stream",
     "text": [
      "/var/folders/7v/rs0k237d6nj3vdxfc1h7xtcw0000gn/T/ipykernel_10777/1430353841.py:7: FutureWarning: A value is trying to be set on a copy of a DataFrame or Series through chained assignment using an inplace method.\n",
      "The behavior will change in pandas 3.0. This inplace method will never work because the intermediate object on which we are setting values always behaves as a copy.\n",
      "\n",
      "For example, when doing 'df[col].method(value, inplace=True)', try using 'df.method({col: value}, inplace=True)' or df[col] = df[col].method(value) instead, to perform the operation inplace on the original object.\n",
      "\n",
      "\n",
      "  indicator_parse.New.fillna('-',inplace=True)\n"
     ]
    }
   ],
   "source": [
    "indicator_parse.rename(columns={\n",
    "    'Definitions_x':'Definitions',\n",
    "    'Definitions_y': 'New',\n",
    "},\n",
    "inplace = True\n",
    ")\n",
    "indicator_parse.New.fillna('-',inplace=True)\n",
    "indicator_parse.Definitions = indicator_parse.New\n",
    "indicator_parse.drop(columns=['New'],axis=1,inplace=True)\n"
   ]
  },
  {
   "cell_type": "markdown",
   "metadata": {},
   "source": [
    "## checkzone"
   ]
  },
  {
   "cell_type": "code",
   "execution_count": null,
   "metadata": {},
   "outputs": [
    {
     "data": {
      "text/html": [
       "<div>\n",
       "<style scoped>\n",
       "    .dataframe tbody tr th:only-of-type {\n",
       "        vertical-align: middle;\n",
       "    }\n",
       "\n",
       "    .dataframe tbody tr th {\n",
       "        vertical-align: top;\n",
       "    }\n",
       "\n",
       "    .dataframe thead th {\n",
       "        text-align: right;\n",
       "    }\n",
       "</style>\n",
       "<table border=\"1\" class=\"dataframe\">\n",
       "  <thead>\n",
       "    <tr style=\"text-align: right;\">\n",
       "      <th></th>\n",
       "      <th>ID</th>\n",
       "      <th>Indicator_group</th>\n",
       "      <th>Category</th>\n",
       "      <th>Category_code</th>\n",
       "      <th>Category_code_description</th>\n",
       "      <th>Indicator</th>\n",
       "      <th>Definitions</th>\n",
       "      <th>Units</th>\n",
       "      <th>Baseline_value</th>\n",
       "      <th>Planned_value</th>\n",
       "      <th>Current_value</th>\n",
       "    </tr>\n",
       "  </thead>\n",
       "  <tbody>\n",
       "    <tr>\n",
       "      <th>0</th>\n",
       "      <td>1</td>\n",
       "      <td>Mattson</td>\n",
       "      <td>Ultimate outcome</td>\n",
       "      <td>1</td>\n",
       "      <td>Increased access to safe, sustainable and affo...</td>\n",
       "      <td>-</td>\n",
       "      <td>-</td>\n",
       "      <td>-</td>\n",
       "      <td>-</td>\n",
       "      <td>-</td>\n",
       "      <td>-</td>\n",
       "    </tr>\n",
       "    <tr>\n",
       "      <th>1</th>\n",
       "      <td>1000</td>\n",
       "      <td>Mattson</td>\n",
       "      <td>Intermediate outcome</td>\n",
       "      <td>1000</td>\n",
       "      <td>Strengthened demand for and management of WASH...</td>\n",
       "      <td>-</td>\n",
       "      <td>-</td>\n",
       "      <td>-</td>\n",
       "      <td>-</td>\n",
       "      <td>-</td>\n",
       "      <td>-</td>\n",
       "    </tr>\n",
       "    <tr>\n",
       "      <th>2</th>\n",
       "      <td>1100a</td>\n",
       "      <td>Mattson</td>\n",
       "      <td>Immediate outcome</td>\n",
       "      <td>1100</td>\n",
       "      <td>Increased civil society engagement in decision...</td>\n",
       "      <td>% of commune WASH events with Rotarian partici...</td>\n",
       "      <td>This indicator measures the level of engagemen...</td>\n",
       "      <td>%</td>\n",
       "      <td>57</td>\n",
       "      <td>100</td>\n",
       "      <td>75</td>\n",
       "    </tr>\n",
       "    <tr>\n",
       "      <th>3</th>\n",
       "      <td>1100b</td>\n",
       "      <td>Mattson</td>\n",
       "      <td>Immediate outcome</td>\n",
       "      <td>1100</td>\n",
       "      <td>Increased civil society engagement in decision...</td>\n",
       "      <td>% of commune WASH events led by trained HANWAS...</td>\n",
       "      <td>The percentage of WASH events within communes ...</td>\n",
       "      <td>%</td>\n",
       "      <td>78</td>\n",
       "      <td>100</td>\n",
       "      <td>92</td>\n",
       "    </tr>\n",
       "    <tr>\n",
       "      <th>4</th>\n",
       "      <td>1110a</td>\n",
       "      <td>Mattson</td>\n",
       "      <td>Outputs</td>\n",
       "      <td>1110</td>\n",
       "      <td>Support civil society engagement in the WASH s...</td>\n",
       "      <td># of volunteer hours per month spent by Rotari...</td>\n",
       "      <td>The total number of hours that Rotarians volun...</td>\n",
       "      <td>volunteer hours / club / month</td>\n",
       "      <td>35</td>\n",
       "      <td>55</td>\n",
       "      <td>36</td>\n",
       "    </tr>\n",
       "    <tr>\n",
       "      <th>5</th>\n",
       "      <td>1110b</td>\n",
       "      <td>Mattson</td>\n",
       "      <td>Outputs</td>\n",
       "      <td>1110</td>\n",
       "      <td>Support civil society engagement in the WASH s...</td>\n",
       "      <td>Number of people reached by the HANWASH Ambass...</td>\n",
       "      <td>The total number of individuals who participat...</td>\n",
       "      <td>people</td>\n",
       "      <td>3</td>\n",
       "      <td>8</td>\n",
       "      <td>5</td>\n",
       "    </tr>\n",
       "    <tr>\n",
       "      <th>6</th>\n",
       "      <td>1120a</td>\n",
       "      <td>Mattson</td>\n",
       "      <td>Outputs</td>\n",
       "      <td>1120</td>\n",
       "      <td>Train HANWASH Ambassadors &amp; Coordinators and t...</td>\n",
       "      <td># of ambassadors who have completed training</td>\n",
       "      <td>The total number of HANWASH Ambassadors who ha...</td>\n",
       "      <td>people</td>\n",
       "      <td>88</td>\n",
       "      <td>98</td>\n",
       "      <td>93</td>\n",
       "    </tr>\n",
       "    <tr>\n",
       "      <th>7</th>\n",
       "      <td>1120b</td>\n",
       "      <td>Mattson</td>\n",
       "      <td>Outputs</td>\n",
       "      <td>1120</td>\n",
       "      <td>Train HANWASH Ambassadors &amp; Coordinators and t...</td>\n",
       "      <td># of coordinators who have completed training</td>\n",
       "      <td>The total number of HANWASH Coordinators who h...</td>\n",
       "      <td>people</td>\n",
       "      <td>3</td>\n",
       "      <td>35</td>\n",
       "      <td>15</td>\n",
       "    </tr>\n",
       "  </tbody>\n",
       "</table>\n",
       "</div>"
      ],
      "text/plain": [
       "      ID Indicator_group              Category  Category_code  \\\n",
       "0      1         Mattson      Ultimate outcome              1   \n",
       "1   1000         Mattson  Intermediate outcome           1000   \n",
       "2  1100a         Mattson     Immediate outcome           1100   \n",
       "3  1100b         Mattson     Immediate outcome           1100   \n",
       "4  1110a         Mattson               Outputs           1110   \n",
       "5  1110b         Mattson               Outputs           1110   \n",
       "6  1120a         Mattson               Outputs           1120   \n",
       "7  1120b         Mattson               Outputs           1120   \n",
       "\n",
       "                           Category_code_description  \\\n",
       "0  Increased access to safe, sustainable and affo...   \n",
       "1  Strengthened demand for and management of WASH...   \n",
       "2  Increased civil society engagement in decision...   \n",
       "3  Increased civil society engagement in decision...   \n",
       "4  Support civil society engagement in the WASH s...   \n",
       "5  Support civil society engagement in the WASH s...   \n",
       "6  Train HANWASH Ambassadors & Coordinators and t...   \n",
       "7  Train HANWASH Ambassadors & Coordinators and t...   \n",
       "\n",
       "                                           Indicator  \\\n",
       "0                                                  -   \n",
       "1                                                  -   \n",
       "2  % of commune WASH events with Rotarian partici...   \n",
       "3  % of commune WASH events led by trained HANWAS...   \n",
       "4  # of volunteer hours per month spent by Rotari...   \n",
       "5  Number of people reached by the HANWASH Ambass...   \n",
       "6       # of ambassadors who have completed training   \n",
       "7      # of coordinators who have completed training   \n",
       "\n",
       "                                         Definitions  \\\n",
       "0                                                  -   \n",
       "1                                                  -   \n",
       "2  This indicator measures the level of engagemen...   \n",
       "3  The percentage of WASH events within communes ...   \n",
       "4  The total number of hours that Rotarians volun...   \n",
       "5  The total number of individuals who participat...   \n",
       "6  The total number of HANWASH Ambassadors who ha...   \n",
       "7  The total number of HANWASH Coordinators who h...   \n",
       "\n",
       "                            Units Baseline_value Planned_value Current_value  \n",
       "0                               -              -             -             -  \n",
       "1                               -              -             -             -  \n",
       "2                               %             57           100            75  \n",
       "3                               %             78           100            92  \n",
       "4  volunteer hours / club / month             35            55            36  \n",
       "5                          people              3             8             5  \n",
       "6                          people             88            98            93  \n",
       "7                          people              3            35            15  "
      ]
     },
     "execution_count": 15,
     "metadata": {},
     "output_type": "execute_result"
    }
   ],
   "source": [
    "indicator_parse.head(8)"
   ]
  },
  {
   "cell_type": "code",
   "execution_count": 16,
   "metadata": {},
   "outputs": [],
   "source": [
    "def replace_ig_value(df):\n",
    "    if df['Indicator_group'] ==  'HANWASH - Master':\n",
    "        return 'HANWASH-Master LM'\n",
    "    elif df['Indicator_group'] ==  'Mattson':\n",
    "        return 'Mattson LM'\n",
    "    else:\n",
    "        print(\"Errata found\")\n",
    "        return '-'"
   ]
  },
  {
   "cell_type": "code",
   "execution_count": 17,
   "metadata": {},
   "outputs": [],
   "source": [
    "indicator_parse['Indicator_group'] = indicator_parse.apply(\n",
    "    lambda df: replace_ig_value(df), \n",
    "    axis=1, \n",
    "    result_type='expand'\n",
    ")"
   ]
  },
  {
   "cell_type": "code",
   "execution_count": 18,
   "metadata": {},
   "outputs": [
    {
     "data": {
      "text/plain": [
       "array(['Mattson LM', 'HANWASH-Master LM'], dtype=object)"
      ]
     },
     "execution_count": 18,
     "metadata": {},
     "output_type": "execute_result"
    }
   ],
   "source": [
    "indicator_parse.Indicator_group.unique()"
   ]
  },
  {
   "cell_type": "markdown",
   "metadata": {},
   "source": [
    "```\n",
    "def update_Indicator_group(row):\n",
    "    if row['Category_code'] == 2230:\n",
    "        return 'Mattson LM'\n",
    "    elif row['Category_code'] == 3120:\n",
    "        return 'Mattson LM'\n",
    "    else:\n",
    "        return row['Indicator_group']\n",
    "```\n",
    "# Apply the function row-wise to column A\n",
    "\n",
    "`indicator_parse['Indicator_group'] = indicator_parse.apply(update_Indicator_group, axis=1)`"
   ]
  },
  {
   "cell_type": "code",
   "execution_count": 19,
   "metadata": {},
   "outputs": [],
   "source": [
    "from new_def import hanwash_indicators_dict\n",
    "newD = DataFrame(hanwash_indicators_dict)\n"
   ]
  },
  {
   "cell_type": "code",
   "execution_count": 20,
   "metadata": {},
   "outputs": [
    {
     "data": {
      "text/plain": [
       "58"
      ]
     },
     "execution_count": 20,
     "metadata": {},
     "output_type": "execute_result"
    },
    {
     "data": {
      "text/plain": [
       "58"
      ]
     },
     "execution_count": 20,
     "metadata": {},
     "output_type": "execute_result"
    }
   ],
   "source": [
    "len(indicator_parse['Definitions'])\n",
    "len(newD['New_Definitions'])"
   ]
  },
  {
   "cell_type": "code",
   "execution_count": 21,
   "metadata": {},
   "outputs": [],
   "source": [
    "indicator_parse['Definitions'] = newD['New_Definitions']"
   ]
  },
  {
   "cell_type": "markdown",
   "metadata": {},
   "source": [
    "## EXPORT"
   ]
  },
  {
   "cell_type": "code",
   "execution_count": 22,
   "metadata": {},
   "outputs": [],
   "source": [
    "indicator_parse.to_excel(\"Hanwash_new_Indicators.xlsx\",index=False)"
   ]
  },
  {
   "cell_type": "markdown",
   "metadata": {},
   "source": [
    "## old"
   ]
  },
  {
   "cell_type": "code",
   "execution_count": 23,
   "metadata": {},
   "outputs": [
    {
     "data": {
      "text/plain": [
       "' indicator_parse[\\n    (indicator_parse.Indicator != \"-\")\\n].to_excel(\"indicator_review.xlsx\",index=False) '"
      ]
     },
     "execution_count": 23,
     "metadata": {},
     "output_type": "execute_result"
    }
   ],
   "source": [
    "\"\"\" indicator_parse[\n",
    "    (indicator_parse.Indicator != \"-\")\n",
    "].to_excel(\"indicator_review.xlsx\",index=False) \"\"\""
   ]
  },
  {
   "cell_type": "code",
   "execution_count": null,
   "metadata": {},
   "outputs": [],
   "source": []
  }
 ],
 "metadata": {
  "kernelspec": {
   "display_name": "Python 3",
   "language": "python",
   "name": "python3"
  },
  "language_info": {
   "codemirror_mode": {
    "name": "ipython",
    "version": 3
   },
   "file_extension": ".py",
   "mimetype": "text/x-python",
   "name": "python",
   "nbconvert_exporter": "python",
   "pygments_lexer": "ipython3",
   "version": "3.12.5"
  }
 },
 "nbformat": 4,
 "nbformat_minor": 2
}
