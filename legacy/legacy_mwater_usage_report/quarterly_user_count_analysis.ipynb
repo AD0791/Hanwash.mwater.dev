{
 "cells": [
  {
   "cell_type": "markdown",
   "id": "5c2dee6d",
   "metadata": {},
   "source": [
    "# Quarterly User Count Analysis"
   ]
  },
  {
   "cell_type": "code",
   "execution_count": 1,
   "id": "6fc9fa27",
   "metadata": {},
   "outputs": [
    {
     "name": "stderr",
     "output_type": "stream",
     "text": [
      "/var/folders/7v/rs0k237d6nj3vdxfc1h7xtcw0000gn/T/ipykernel_61703/1325939569.py:18: SettingWithCopyWarning: \n",
      "A value is trying to be set on a copy of a slice from a DataFrame.\n",
      "Try using .loc[row_indexer,col_indexer] = value instead\n",
      "\n",
      "See the caveats in the documentation: https://pandas.pydata.org/pandas-docs/stable/user_guide/indexing.html#returning-a-view-versus-a-copy\n",
      "  filtered_data['Quarter'] = filtered_data['Last Activity'].dt.to_period('Q')\n"
     ]
    },
    {
     "data": {
      "text/html": [
       "<div>\n",
       "<style scoped>\n",
       "    .dataframe tbody tr th:only-of-type {\n",
       "        vertical-align: middle;\n",
       "    }\n",
       "\n",
       "    .dataframe tbody tr th {\n",
       "        vertical-align: top;\n",
       "    }\n",
       "\n",
       "    .dataframe thead th {\n",
       "        text-align: right;\n",
       "    }\n",
       "</style>\n",
       "<table border=\"1\" class=\"dataframe\">\n",
       "  <thead>\n",
       "    <tr style=\"text-align: right;\">\n",
       "      <th></th>\n",
       "      <th>Quarter</th>\n",
       "      <th>user_ID</th>\n",
       "    </tr>\n",
       "  </thead>\n",
       "  <tbody>\n",
       "    <tr>\n",
       "      <th>0</th>\n",
       "      <td>2023Q4</td>\n",
       "      <td>12</td>\n",
       "    </tr>\n",
       "    <tr>\n",
       "      <th>1</th>\n",
       "      <td>2024Q1</td>\n",
       "      <td>6</td>\n",
       "    </tr>\n",
       "    <tr>\n",
       "      <th>2</th>\n",
       "      <td>2024Q2</td>\n",
       "      <td>6</td>\n",
       "    </tr>\n",
       "    <tr>\n",
       "      <th>3</th>\n",
       "      <td>2024Q3</td>\n",
       "      <td>14</td>\n",
       "    </tr>\n",
       "    <tr>\n",
       "      <th>4</th>\n",
       "      <td>2024Q4</td>\n",
       "      <td>14</td>\n",
       "    </tr>\n",
       "  </tbody>\n",
       "</table>\n",
       "</div>"
      ],
      "text/plain": [
       "  Quarter  user_ID\n",
       "0  2023Q4       12\n",
       "1  2024Q1        6\n",
       "2  2024Q2        6\n",
       "3  2024Q3       14\n",
       "4  2024Q4       14"
      ]
     },
     "execution_count": 1,
     "metadata": {},
     "output_type": "execute_result"
    }
   ],
   "source": [
    "import pandas as pd\n",
    "\n",
    "# Load the spreadsheet containing the user data\n",
    "spreadsheet_path = './reports/user_mWater_data.xlsx'\n",
    "data = pd.read_excel(spreadsheet_path, sheet_name='Sheet1')\n",
    "\n",
    "# Convert 'Last Activity' to datetime\n",
    "data['Last Activity'] = pd.to_datetime(data['Last Activity'], errors='coerce')\n",
    "\n",
    "# Remove the timezone if it exists (convert to timezone-naive)\n",
    "data['Last Activity'] = data['Last Activity'].dt.tz_convert(None)\n",
    "\n",
    "# Filter data for the past 12 months\n",
    "past_12_months = pd.Timestamp.now(tz=None) - pd.DateOffset(months=12)\n",
    "filtered_data = data[data['Last Activity'] >= past_12_months]\n",
    "\n",
    "# Extract the quarter and year\n",
    "filtered_data['Quarter'] = filtered_data['Last Activity'].dt.to_period('Q')\n",
    "\n",
    "# Group by quarter and count unique users (by 'user_ID')\n",
    "quarterly_user_count = filtered_data.groupby('Quarter')['user_ID'].nunique().reset_index()\n",
    "\n",
    "quarterly_user_count"
   ]
  },
  {
   "cell_type": "code",
   "execution_count": 2,
   "id": "d59ea10e",
   "metadata": {},
   "outputs": [
    {
     "data": {
      "text/plain": [
       "52"
      ]
     },
     "execution_count": 2,
     "metadata": {},
     "output_type": "execute_result"
    }
   ],
   "source": [
    "quarterly_user_count.user_ID.sum()"
   ]
  },
  {
   "cell_type": "code",
   "execution_count": 6,
   "id": "1f1d26b3",
   "metadata": {},
   "outputs": [],
   "source": [
    "quarterly_user_count.rename(\n",
    "    columns={'user_ID':'# of Users by Quarter FY24'},\n",
    "        inplace=True,\n",
    ")"
   ]
  },
  {
   "cell_type": "code",
   "execution_count": 9,
   "id": "cc13ad2b",
   "metadata": {},
   "outputs": [
    {
     "data": {
      "text/html": [
       "<div>\n",
       "<style scoped>\n",
       "    .dataframe tbody tr th:only-of-type {\n",
       "        vertical-align: middle;\n",
       "    }\n",
       "\n",
       "    .dataframe tbody tr th {\n",
       "        vertical-align: top;\n",
       "    }\n",
       "\n",
       "    .dataframe thead th {\n",
       "        text-align: right;\n",
       "    }\n",
       "</style>\n",
       "<table border=\"1\" class=\"dataframe\">\n",
       "  <thead>\n",
       "    <tr style=\"text-align: right;\">\n",
       "      <th></th>\n",
       "      <th>Quarter</th>\n",
       "      <th># of Users by Quarter FY24</th>\n",
       "      <th>Units</th>\n",
       "    </tr>\n",
       "  </thead>\n",
       "  <tbody>\n",
       "    <tr>\n",
       "      <th>0</th>\n",
       "      <td>2023Q4</td>\n",
       "      <td>12</td>\n",
       "      <td>Users</td>\n",
       "    </tr>\n",
       "    <tr>\n",
       "      <th>1</th>\n",
       "      <td>2024Q1</td>\n",
       "      <td>6</td>\n",
       "      <td>Users</td>\n",
       "    </tr>\n",
       "    <tr>\n",
       "      <th>2</th>\n",
       "      <td>2024Q2</td>\n",
       "      <td>6</td>\n",
       "      <td>Users</td>\n",
       "    </tr>\n",
       "    <tr>\n",
       "      <th>3</th>\n",
       "      <td>2024Q3</td>\n",
       "      <td>14</td>\n",
       "      <td>Users</td>\n",
       "    </tr>\n",
       "    <tr>\n",
       "      <th>4</th>\n",
       "      <td>2024Q4</td>\n",
       "      <td>14</td>\n",
       "      <td>Users</td>\n",
       "    </tr>\n",
       "  </tbody>\n",
       "</table>\n",
       "</div>"
      ],
      "text/plain": [
       "  Quarter  # of Users by Quarter FY24  Units\n",
       "0  2023Q4                          12  Users\n",
       "1  2024Q1                           6  Users\n",
       "2  2024Q2                           6  Users\n",
       "3  2024Q3                          14  Users\n",
       "4  2024Q4                          14  Users"
      ]
     },
     "execution_count": 9,
     "metadata": {},
     "output_type": "execute_result"
    }
   ],
   "source": [
    "quarterly_user_count['Units'] = 'Users'\n",
    "quarterly_user_count"
   ]
  },
  {
   "cell_type": "code",
   "execution_count": 11,
   "id": "2dee992f",
   "metadata": {},
   "outputs": [],
   "source": [
    "quarterly_user_count.to_excel('./reports/quaterly_user_count.xlsx',index=False)"
   ]
  },
  {
   "cell_type": "markdown",
   "id": "bbd3a6be",
   "metadata": {},
   "source": [
    "This notebook filters user data for the past 12 months, calculates the number of unique users per quarter, and displays the results."
   ]
  }
 ],
 "metadata": {
  "kernelspec": {
   "display_name": "Python 3",
   "language": "python",
   "name": "python3"
  },
  "language_info": {
   "codemirror_mode": {
    "name": "ipython",
    "version": 3
   },
   "file_extension": ".py",
   "mimetype": "text/x-python",
   "name": "python",
   "nbconvert_exporter": "python",
   "pygments_lexer": "ipython3",
   "version": "3.12.5"
  }
 },
 "nbformat": 4,
 "nbformat_minor": 5
}
