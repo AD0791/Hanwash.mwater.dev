{
 "cells": [
  {
   "cell_type": "code",
   "execution_count": 1,
   "id": "c66ff5a4",
   "metadata": {},
   "outputs": [],
   "source": [
    "import pandas as pd\n",
    "import os"
   ]
  },
  {
   "cell_type": "code",
   "execution_count": 2,
   "id": "c66bbbcc-f537-400d-ae57-b6c08f8bcb1e",
   "metadata": {},
   "outputs": [],
   "source": [
    "# Define file paths\n",
    "file0 = 'indicateur_section0.xlsx'\n",
    "file1 = 'indicator_section1.xlsx'\n",
    "file2 = 'indicator_section2.xlsx'\n"
   ]
  },
  {
   "cell_type": "code",
   "execution_count": 4,
   "id": "8fa52929",
   "metadata": {},
   "outputs": [
    {
     "name": "stdout",
     "output_type": "stream",
     "text": [
      "All three files loaded successfully!\n"
     ]
    }
   ],
   "source": [
    "# Load the datasets into pandas DataFrames\n",
    "try:\n",
    "    df0 = pd.read_excel(file0)\n",
    "    df1 = pd.read_excel(file1)\n",
    "    df2 = pd.read_excel(file2)\n",
    "    print(\"All three files loaded successfully!\")\n",
    "except FileNotFoundError as e:\n",
    "    print(f\"Error: {e}. Please ensure all CSV files are in the same directory as this script.\")\n",
    "    exit() # Exit if files are not found"
   ]
  },
  {
   "cell_type": "code",
   "execution_count": 5,
   "id": "1e91e8bd",
   "metadata": {},
   "outputs": [
    {
     "name": "stdout",
     "output_type": "stream",
     "text": [
      "\n",
      "--- Initial Data Head ---\n",
      "\n",
      "File 0:\n",
      "                            Units     ID  \\\n",
      "0                               %  1100a   \n",
      "1                               %  1100b   \n",
      "2  volunteer hours / club / month  1110a   \n",
      "3                          people  1110b   \n",
      "4                          people  1120a   \n",
      "\n",
      "                                           Indicator  \\\n",
      "0  % of commune WASH events with Rotarian partici...   \n",
      "1  % of commune WASH events led by trained HANWAS...   \n",
      "2  # of volunteer hours per month spent by Rotari...   \n",
      "3  Number of people reached by the HANWASH Ambass...   \n",
      "4       # of ambassadors who have completed training   \n",
      "\n",
      "                                         Definitions  \n",
      "0  Percentage of commune-level WASH events that h...  \n",
      "1  Percentage of commune-level WASH events led by...  \n",
      "2  Average number of volunteer hours per month sp...  \n",
      "3  Total number of individuals reached through WA...  \n",
      "4  Total number of HANWASH Ambassadors who have s...  \n",
      "\n",
      "File 1:\n",
      "   Code Indicator group              Category  \\\n",
      "0     1      Mattson LM      Ultimate outcome   \n",
      "1  1000      Mattson LM  Intermediate outcome   \n",
      "2  1100      Mattson LM     Immediate outcome   \n",
      "3  1100      Mattson LM     Immediate outcome   \n",
      "4  1110      Mattson LM               Outputs   \n",
      "\n",
      "                                         Description     ID  \n",
      "0  Increased access to safe, sustainable and affo...      1  \n",
      "1  Strengthened demand for and management of WASH...   1000  \n",
      "2  Increased civil society engagement in decision...  1100a  \n",
      "3  Increased civil society engagement in decision...  1100b  \n",
      "4  Support civil society engagement in the WASH s...  1110a  \n",
      "\n",
      "File 2:\n",
      "      ID                           Units  \\\n",
      "0  1100a                               %   \n",
      "1  1100b                               %   \n",
      "2  1110a  volunteer hours / club / month   \n",
      "3  1110b                          people   \n",
      "4  1120a                          people   \n",
      "\n",
      "                                           Indicator  Baseline  Current  \\\n",
      "0  % of commune WASH events with Rotarian partici...      57.0     75.0   \n",
      "1  % of commune WASH events led by trained HANWAS...      78.0     92.0   \n",
      "2  # of volunteer hours per month spent by Rotari...      35.0     36.0   \n",
      "3  Number of people reached by the HANWASH Ambass...       3.0      5.0   \n",
      "4       # of ambassadors who have completed training      88.0     93.0   \n",
      "\n",
      "   Target  \n",
      "0   100.0  \n",
      "1   100.0  \n",
      "2    55.0  \n",
      "3     8.0  \n",
      "4    98.0  \n"
     ]
    }
   ],
   "source": [
    "print(\"\\n--- Initial Data Head ---\")\n",
    "print(\"\\nFile 0:\")\n",
    "print(df0.head())\n",
    "print(\"\\nFile 1:\")\n",
    "print(df1.head())\n",
    "print(\"\\nFile 2:\")\n",
    "print(df2.head())\n"
   ]
  },
  {
   "cell_type": "code",
   "execution_count": 6,
   "id": "61f63cb6",
   "metadata": {},
   "outputs": [
    {
     "name": "stdout",
     "output_type": "stream",
     "text": [
      "\n",
      "--- Step 2: Pre-processing Data ---\n"
     ]
    }
   ],
   "source": [
    "# --- Step 2: Pre-process and Standardize Columns ---\n",
    "print(\"\\n--- Step 2: Pre-processing Data ---\")\n",
    "\n",
    "# Rename columns for consistency\n",
    "df1.rename(columns={\n",
    "    'Code': 'Category_code',\n",
    "    'Description': 'Category_code_description'\n",
    "}, inplace=True)\n",
    "\n",
    "df2.rename(columns={\n",
    "    'Baseline': 'Baseline Value',\n",
    "    'Current': 'current_value',\n",
    "    'Target': 'Planned Value'\n",
    "}, inplace=True)\n",
    "\n",
    "# To avoid duplicate columns after merging (e.g., 'Units_x', 'Units_y'),\n",
    "# we drop them from one of the dataframes before the merge.\n",
    "# df0 has the primary definitions, so we'll keep its 'Indicator' and 'Units' columns.\n",
    "df2 = df2.drop(columns=['Indicator', 'Units'])"
   ]
  },
  {
   "cell_type": "code",
   "execution_count": 7,
   "id": "6edd99f6",
   "metadata": {},
   "outputs": [
    {
     "name": "stdout",
     "output_type": "stream",
     "text": [
      "Columns renamed and prepared for merging.\n",
      "\n",
      "Columns in df1: ['Category_code', 'Indicator group', 'Category', 'Category_code_description', 'ID']\n",
      "\n",
      "Columns in df2: ['ID', 'Baseline Value', 'current_value', 'Planned Value']\n"
     ]
    }
   ],
   "source": [
    "print(\"Columns renamed and prepared for merging.\")\n",
    "print(\"\\nColumns in df1:\", df1.columns.tolist())\n",
    "print(\"\\nColumns in df2:\", df2.columns.tolist())\n"
   ]
  },
  {
   "cell_type": "code",
   "execution_count": 8,
   "id": "135a5580",
   "metadata": {},
   "outputs": [
    {
     "name": "stdout",
     "output_type": "stream",
     "text": [
      "\n",
      "--- Step 3: Merging DataFrames ---\n",
      "DataFrames merged successfully.\n",
      "Shape of the final DataFrame: (59, 11)\n",
      "                            Units     ID  \\\n",
      "0                             NaN      1   \n",
      "1                             NaN   1000   \n",
      "2                               %  1100a   \n",
      "3                               %  1100b   \n",
      "4  volunteer hours / club / month  1110a   \n",
      "\n",
      "                                           Indicator  \\\n",
      "0                                                NaN   \n",
      "1                                                NaN   \n",
      "2  % of commune WASH events with Rotarian partici...   \n",
      "3  % of commune WASH events led by trained HANWAS...   \n",
      "4  # of volunteer hours per month spent by Rotari...   \n",
      "\n",
      "                                         Definitions  Category_code  \\\n",
      "0                                                NaN              1   \n",
      "1                                                NaN           1000   \n",
      "2  Percentage of commune-level WASH events that h...           1100   \n",
      "3  Percentage of commune-level WASH events led by...           1100   \n",
      "4  Average number of volunteer hours per month sp...           1110   \n",
      "\n",
      "  Indicator group              Category  \\\n",
      "0      Mattson LM      Ultimate outcome   \n",
      "1      Mattson LM  Intermediate outcome   \n",
      "2      Mattson LM     Immediate outcome   \n",
      "3      Mattson LM     Immediate outcome   \n",
      "4      Mattson LM               Outputs   \n",
      "\n",
      "                           Category_code_description  Baseline Value  \\\n",
      "0  Increased access to safe, sustainable and affo...             NaN   \n",
      "1  Strengthened demand for and management of WASH...             NaN   \n",
      "2  Increased civil society engagement in decision...            57.0   \n",
      "3  Increased civil society engagement in decision...            78.0   \n",
      "4  Support civil society engagement in the WASH s...            35.0   \n",
      "\n",
      "   current_value  Planned Value  \n",
      "0            NaN            NaN  \n",
      "1            NaN            NaN  \n",
      "2           75.0          100.0  \n",
      "3           92.0          100.0  \n",
      "4           36.0           55.0  \n"
     ]
    }
   ],
   "source": [
    "# --- Step 3: Merge the DataFrames ---\n",
    "print(\"\\n--- Step 3: Merging DataFrames ---\")\n",
    "\n",
    "# Merge the first two dataframes\n",
    "merged_df = pd.merge(df0, df1, on='ID', how='outer')\n",
    "\n",
    "# Merge the result with the third dataframe\n",
    "final_df = pd.merge(merged_df, df2, on='ID', how='outer')\n",
    "\n",
    "print(\"DataFrames merged successfully.\")\n",
    "print(\"Shape of the final DataFrame:\", final_df.shape)\n",
    "print(final_df.head())\n"
   ]
  },
  {
   "cell_type": "code",
   "execution_count": 9,
   "id": "00b3c27b",
   "metadata": {},
   "outputs": [
    {
     "name": "stdout",
     "output_type": "stream",
     "text": [
      "\n",
      "--- Step 4: Adding New Columns ---\n",
      "Added 'Commune' and 'Indicator Type' columns.\n",
      "                            Units     ID  \\\n",
      "0                             NaN      1   \n",
      "1                             NaN   1000   \n",
      "2                               %  1100a   \n",
      "3                               %  1100b   \n",
      "4  volunteer hours / club / month  1110a   \n",
      "\n",
      "                                           Indicator  \\\n",
      "0                                                NaN   \n",
      "1                                                NaN   \n",
      "2  % of commune WASH events with Rotarian partici...   \n",
      "3  % of commune WASH events led by trained HANWAS...   \n",
      "4  # of volunteer hours per month spent by Rotari...   \n",
      "\n",
      "                                         Definitions  Category_code  \\\n",
      "0                                                NaN              1   \n",
      "1                                                NaN           1000   \n",
      "2  Percentage of commune-level WASH events that h...           1100   \n",
      "3  Percentage of commune-level WASH events led by...           1100   \n",
      "4  Average number of volunteer hours per month sp...           1110   \n",
      "\n",
      "  Indicator group              Category  \\\n",
      "0      Mattson LM      Ultimate outcome   \n",
      "1      Mattson LM  Intermediate outcome   \n",
      "2      Mattson LM     Immediate outcome   \n",
      "3      Mattson LM     Immediate outcome   \n",
      "4      Mattson LM               Outputs   \n",
      "\n",
      "                           Category_code_description  Baseline Value  \\\n",
      "0  Increased access to safe, sustainable and affo...             NaN   \n",
      "1  Strengthened demand for and management of WASH...             NaN   \n",
      "2  Increased civil society engagement in decision...            57.0   \n",
      "3  Increased civil society engagement in decision...            78.0   \n",
      "4  Support civil society engagement in the WASH s...            35.0   \n",
      "\n",
      "   current_value  Planned Value Commune Indicator Type  \n",
      "0            NaN            NaN    None           None  \n",
      "1            NaN            NaN    None           None  \n",
      "2           75.0          100.0    None           None  \n",
      "3           92.0          100.0    None           None  \n",
      "4           36.0           55.0    None           None  \n"
     ]
    }
   ],
   "source": [
    "# --- Step 4: Add New Empty Columns ---\n",
    "print(\"\\n--- Step 4: Adding New Columns ---\")\n",
    "\n",
    "final_df['Commune'] = None\n",
    "final_df['Indicator Type'] = None\n",
    "\n",
    "print(\"Added 'Commune' and 'Indicator Type' columns.\")\n",
    "print(final_df.head())\n"
   ]
  },
  {
   "cell_type": "code",
   "execution_count": 10,
   "id": "8c45e9e8",
   "metadata": {},
   "outputs": [
    {
     "name": "stdout",
     "output_type": "stream",
     "text": [
      "\n",
      "--- Step 5: Finalizing and Exporting ---\n",
      "\n",
      "Final table successfully created and saved to 'output/merged_indicators.xlsx'\n",
      "\n",
      "--- Final Table Preview ---\n",
      "      ID Indicator group              Category  Category_code  \\\n",
      "0      1      Mattson LM      Ultimate outcome              1   \n",
      "1   1000      Mattson LM  Intermediate outcome           1000   \n",
      "2  1100a      Mattson LM     Immediate outcome           1100   \n",
      "3  1100b      Mattson LM     Immediate outcome           1100   \n",
      "4  1110a      Mattson LM               Outputs           1110   \n",
      "\n",
      "                           Category_code_description  \\\n",
      "0  Increased access to safe, sustainable and affo...   \n",
      "1  Strengthened demand for and management of WASH...   \n",
      "2  Increased civil society engagement in decision...   \n",
      "3  Increased civil society engagement in decision...   \n",
      "4  Support civil society engagement in the WASH s...   \n",
      "\n",
      "                                           Indicator  \\\n",
      "0                                                NaN   \n",
      "1                                                NaN   \n",
      "2  % of commune WASH events with Rotarian partici...   \n",
      "3  % of commune WASH events led by trained HANWAS...   \n",
      "4  # of volunteer hours per month spent by Rotari...   \n",
      "\n",
      "                                         Definitions  \\\n",
      "0                                                NaN   \n",
      "1                                                NaN   \n",
      "2  Percentage of commune-level WASH events that h...   \n",
      "3  Percentage of commune-level WASH events led by...   \n",
      "4  Average number of volunteer hours per month sp...   \n",
      "\n",
      "                            Units  Baseline Value  Planned Value  \\\n",
      "0                             NaN             NaN            NaN   \n",
      "1                             NaN             NaN            NaN   \n",
      "2                               %            57.0          100.0   \n",
      "3                               %            78.0          100.0   \n",
      "4  volunteer hours / club / month            35.0           55.0   \n",
      "\n",
      "   current_value Commune Indicator Type  \n",
      "0            NaN    None           None  \n",
      "1            NaN    None           None  \n",
      "2           75.0    None           None  \n",
      "3           92.0    None           None  \n",
      "4           36.0    None           None  \n"
     ]
    }
   ],
   "source": [
    "# --- Step 5: Finalize and Export ---\n",
    "print(\"\\n--- Step 5: Finalizing and Exporting ---\")\n",
    "\n",
    "# Define the final column order\n",
    "final_column_order = [\n",
    "    'ID',\n",
    "    'Indicator group',\n",
    "    'Category',\n",
    "    'Category_code',\n",
    "    'Category_code_description',\n",
    "    'Indicator',\n",
    "    'Definitions',\n",
    "    'Units',\n",
    "    'Baseline Value',\n",
    "    'Planned Value',\n",
    "    'current_value',\n",
    "    'Commune',\n",
    "    'Indicator Type'\n",
    "]\n",
    "\n",
    "# Reorder the dataframe\n",
    "final_df = final_df[final_column_order]\n",
    "\n",
    "# Save to Excel\n",
    "output_dir = 'output'\n",
    "if not os.path.exists(output_dir):\n",
    "    os.makedirs(output_dir)\n",
    "\n",
    "output_filename = os.path.join(output_dir, 'merged_indicators.xlsx')\n",
    "final_df.to_excel(output_filename, index=False)\n",
    "\n",
    "print(f\"\\nFinal table successfully created and saved to '{output_filename}'\")\n",
    "print(\"\\n--- Final Table Preview ---\")\n",
    "print(final_df.head())\n"
   ]
  }
 ],
 "metadata": {
  "kernelspec": {
   "display_name": "Python 3 (ipykernel)",
   "language": "python",
   "name": "python3"
  },
  "language_info": {
   "codemirror_mode": {
    "name": "ipython",
    "version": 3
   },
   "file_extension": ".py",
   "mimetype": "text/x-python",
   "name": "python",
   "nbconvert_exporter": "python",
   "pygments_lexer": "ipython3",
   "version": "3.13.7"
  }
 },
 "nbformat": 4,
 "nbformat_minor": 5
}
