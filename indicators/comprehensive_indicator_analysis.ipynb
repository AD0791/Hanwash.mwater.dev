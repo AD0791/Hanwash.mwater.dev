{
 "cells": [
  {
   "cell_type": "code",
   "execution_count": 1,
   "id": "a6775f21-7117-4b2e-af76-47501caf1266",
   "metadata": {},
   "outputs": [],
   "source": [
    "import pandas as pd\n",
    "import numpy as np\n",
    "import os\n"
   ]
  },
  {
   "cell_type": "code",
   "execution_count": 2,
   "id": "6b352391",
   "metadata": {},
   "outputs": [
    {
     "name": "stdout",
     "output_type": "stream",
     "text": [
      "--- Step 1: Defining master lists and loading source data ---\n"
     ]
    }
   ],
   "source": [
    "# --- Step 1: Define Master Data & Load Sources ---\n",
    "print(\"--- Step 1: Defining master lists and loading source data ---\")\n",
    "\n",
    "# The definitive master list of French indicators from the interim report\n",
    "master_indicators_fr = [\n",
    "    \"Pourcentage d'événements WASH organisés dans les communes avec la participation de Rotariens haïtiens.\",\n",
    "    \"Proportion (%) de participants aux réunions virtuelles sur les projets WASH qui sont des Rotariens haïtiens.\",\n",
    "    \"Nombre de visites sur le terrain effectuées chaque trimestre par les Rotariens dans les communautés concernées.\",\n",
    "    \"Pourcentage d'interventions approuvées mises en œuvre conformément aux plans d'action des communes.\",\n",
    "    \"Nombre de communes disposant de plans d'action qui incluent explicitement chaque aspect W, S, H, WRM (eau, assainissement, hygiène, gestion des ressources en eau).\",\n",
    "    \"Nombre d'événements de planification et de coordination WASH avec la DINEPA et les responsables municipaux\",\n",
    "    \"Pourcentage de prestataires de services relevant de l'initiative HANWASH contrôlés conformément aux directives de la DINEPA/OREPA acceptées par le bureau du maire\",\n",
    "    \"Pourcentage de prestataires de services d'intervention qui sont entièrement responsables conformément aux exigences de la DINEPA/OREPA et du maire\",\n",
    "    \"Pourcentage d'utilisateurs satisfaits de la qualité, du caractère abordable et de la fiabilité des services WASH fournis\",\n",
    "    \"Nombre moyen de jours nécessaires pour résoudre les pannes des infrastructures hydrauliques\",\n",
    "    \"Nombre moyen de jours de service d'eau potable fournis au cours du mois par les prestataires de services\",\n",
    "    \"Nombre de visites d'inspection sur place effectuées chaque année par l'OREPA dans les communes d'intervention\",\n",
    "    \"Taux de recouvrement des redevances d'eau\",\n",
    "    \"Pourcentage de la population des communes d’intervention ayant accès au moins à un service élémentaire d’alimentation en eau potable\",\n",
    "    \"Pourcentage de la population des communes d’intervention ayant accès à un service d’alimentation en eau potable (SAEP) géré en toute sécurité\",\n",
    "    \"Pourcentage de ménages dans les communes d’intervention disposant d’une source d’eau améliorée disponible en cas de besoin\",\n",
    "    \"Pourcentage de ménages qui paient régulièrement l'eau\",\n",
    "    \"Pourcentage de la population des communes d’intervention ayant accès au moins à un service élémentaire d’assainissement\",\n",
    "    \"Pourcentage de la population des communes d’intervention ayant accès à un service d'assainissement géré en toute sécurité\",\n",
    "    \"Pourcentage de la population des communes d’intervention où les excréments sont éliminés en toute sécurité in situ ou transportés et traités hors site\",\n",
    "    \"Pourcentage de la population des communes d’intervention ayant accès au moins à un service élémentaire d’hygiène\",\n",
    "    \"Pourcentage d’écoles disposant au moins de services élémentaires d'eau, d'assainissement et d'hygiène\",\n",
    "    \"Pourcentage d’établissements de santé disposant au moins de services élémentaires d'eau, d'assainissement et d'hygiène\",\n",
    "    \"Nombre d'écoles bénéficiant désormais d'un service d'eau potable de base\",\n",
    "    \"Nombre d'établissements de santé bénéficiant désormais de services d'eau potable de base\",\n",
    "    \"Nombre d'écoles bénéficiant désormais de services d'assainissement de base\",\n",
    "    \"Nombre d'établissements de santé bénéficiant désormais de services d'assainissement de base\",\n",
    "    \"Nombre d'écoles bénéficiant désormais de services d'hygiène de base\",\n",
    "    \"Nombre d'établissements de santé bénéficiant désormais de services d'hygiène de base\",\n",
    "    \"Montant cumulé des fonds engagés conformément aux valeurs fondamentales de HANWASH, sur la base d'un protocole d'accord signé avec HANWASH\",\n",
    "    \"Pourcentage des fonds engagés qui ont été dépensés (cumulés), sur la base d'un protocole d'accord signé avec HANWASH\",\n",
    "    \"Montant dépensé par des acteurs externes dans les zones couvertes par le projet HANWASH, sur la base d'un protocole d'accord signé avec HANWASH\",\n",
    "    \"Montant dépensé par des acteurs externes en dehors des zones de projet, conformément aux valeurs fondamentales de HANWASH, soutenu par un protocole d'accord signé avec HANWASH.\",\n",
    "    \"Pourcentage de partenaires de mise en œuvre dans les zones du programme HANWASH ayant signé l'accord-cadre de la DINEPA\",\n",
    "    \"Nombre de membres du personnel de la DINEPA et des OREPA formés en tant que leaders\",\n",
    "    \"Nombre de formations techniques dispensées dans les domaines prioritaires de la DINEPA\",\n",
    "    \"Pourcentage des comités de points d'eau (CPE) et des opérateurs professionnels créés qui sont fonctionnels\",\n",
    "    \"Pourcentage de communautés d’intervention qui ont atteint le statut de fin de la défécation à l’air libre (FDAL) en utilisant l’approche ATPC\",\n",
    "    \"Pourcentage de la population des communes d’intervention qui paie pour le service de l’eau\",\n",
    "    \"Pourcentage des écoles avec des points d’eau améliorés\",\n",
    "    \"Pourcentage d’établissements de santé avec des points d’eau améliorés\",\n",
    "    \"Pourcentage des écoles avec des latrines améliorées et séparées par sexe\",\n",
    "    \"Pourcentage d’établissements de santé avec des latrines améliorées et séparées par sexe\",\n",
    "    \"Pourcentage des écoles avec des services d’hygiène de base\",\n",
    "    \"Pourcentage d’établissements de santé avec des services d’hygiène de base\",\n",
    "    \"Pourcentage d’écoles avec un service d’eau potable géré en toute sécurité\",\n",
    "    \"Pourcentage d’établissements de santé avec un service d’eau potable géré en toute sécurité\"\n",
    "]\n",
    "\n",
    "# The definitive English translation list you provided\n",
    "master_indicators_en = [\n",
    "    \"% of WASH events organized in the communes with the participation of Haitian Rotarians.\",\n",
    "    \"Proportion (%) of participants in virtual meetings on WASH projects who are Haitian Rotarians.\",\n",
    "    \"Number of field visits conducted each quarter by Rotarians in the relevant communities.\",\n",
    "    \"% of approved interventions implemented in accordance with commune action plans.\",\n",
    "    \"Number of communes with action plans that explicitly include each aspect W, S, H, WRM (water, sanitation, hygiene, water resources management).\",\n",
    "    \"Number of WASH planning and coordination events with DINEPA and municipal officials.\",\n",
    "    \"Percentage of service providers under the HANWASH initiative monitored in accordance with DINEPA/OREPA guidelines accepted by the mayor's office.\",\n",
    "    \"Percentage of intervention service providers who are fully accountable in accordance with DINEPA/OREPA and mayoral requirements.\",\n",
    "    \"% of users satisfied with the quality, affordability, and reliability of the WASH services provided.\",\n",
    "    \"Average number of days required to resolve hydraulic infrastructure failures.\",\n",
    "    \"Average number of days of drinking water service provided during the month by service providers.\",\n",
    "    \"Number of on-site inspection visits conducted each year by OREPA in the intervention communes.\",\n",
    "    \"Water fee collection rate.\",\n",
    "    \"% of the population in intervention communes with access to at least a basic drinking water service.\",\n",
    "    \"% of the population in intervention communes with access to a safely managed drinking water service (WSS).\",\n",
    "    \"% of households in intervention communes with an improved water source available when needed.\",\n",
    "    \"% of households that regularly pay for water.\",\n",
    "    \"% of the population in intervention communes with access to at least a basic sanitation service.\",\n",
    "    \"% of the population in intervention communes with access to a safely managed sanitation service.\",\n",
    "    \"Percentage of the population in intervention communes where excreta is safely disposed of in-situ or transported and treated off-site.\",\n",
    "    \"% of the population in intervention communes with access to at least a basic hygiene service.\",\n",
    "    \"% of schools with at least a basic drinking water, sanitation, and hygiene service.\",\n",
    "    \"% of healthcare facilities with at least a basic drinking water, sanitation, and hygiene service.\",\n",
    "    \"Number of schools now benefiting from a basic drinking water service.\",\n",
    "    \"Number of healthcare facilities now benefiting from basic drinking water services.\",\n",
    "    \"Number of schools now benefiting from basic sanitation services.\",\n",
    "    \"Number of healthcare facilities now benefiting from basic sanitation services.\",\n",
    "    \"Number of schools now benefiting from basic hygiene services.\",\n",
    "    \"Number of healthcare facilities now benefiting from basic hygiene services.\",\n",
    "    \"Cumulative amount of funds committed in accordance with the fundamental values of HANWASH, based on a signed memorandum of understanding with HANWASH.\",\n",
    "    \"% of committed funds that have been spent (cumulative), based on a signed memorandum of understanding with HANWASH.\",\n",
    "    \"Amount spent by external actors in areas covered by the HANWASH project, based on a signed memorandum of understanding with HANWASH.\",\n",
    "    \"Amount spent by external actors outside project areas, in accordance with the fundamental values of HANWASH, supported by a signed memorandum of understanding with HANWASH.\",\n",
    "    \"Percentage of implementing partners in HANWASH program areas who have signed the DINEPA framework agreement.\",\n",
    "    \"Number of DINEPA and OREPA staff members trained as leaders.\",\n",
    "    \"Number of technical trainings provided in DINEPA priority areas.\",\n",
    "    \"% of water point committees (CPEs) and professional operators created which are functional.\",\n",
    "    \"% of intervention communities that have achieved Open Defecation Free (ODF) status using the CLTS approach.\",\n",
    "    \"% of the population in intervention communes who pay for water service.\",\n",
    "    \"% of schools with improved water points.\",\n",
    "    \"% of healthcare facilities with improved water points.\",\n",
    "    \"% of schools with improved and sex-separated latrines.\",\n",
    "    \"% of healthcare facilities with improved and sex-separated latrines.\",\n",
    "    \"% of schools with basic hygiene services.\",\n",
    "    \"% of healthcare facilities with basic hygiene services.\",\n",
    "    \"% of schools with a safely managed drinking water service.\",\n",
    "    \"% of healthcare facilities with a safely managed drinking water service.\"\n",
    "]\n",
    "\n",
    "# Baseline values with French keys, manually extracted from the Word document's 'Tableau 11'\n",
    "baseline_data_fr = {\n",
    "    \"Pourcentage de la population des communes d’intervention ayant accès au moins à un service élémentaire d’alimentation en eau potable\": {\"Cavaillon\": 44, \"Ferrier\": 56, \"Léogâne\": 68, \"Pignon\": 35, \"Terre-Neuve\": 37},\n",
    "    \"Pourcentage de la population des communes d’intervention ayant accès à un service d’alimentation en eau potable (SAEP) géré en toute sécurité\": {\"Cavaillon\": 18, \"Ferrier\": 1, \"Léogâne\": 10, \"Pignon\": 2, \"Terre-Neuve\": 15},\n",
    "    \"Pourcentage de ménages dans les communes d’intervention disposant d’une source d’eau améliorée disponible en cas de besoin\": {\"Cavaillon\": 89, \"Ferrier\": 98, \"Léogâne\": 96, \"Pignon\": 95, \"Terre-Neuve\": 96},\n",
    "    \"Pourcentage de ménages qui paient régulièrement l'eau\": {\"Cavaillon\": 43, \"Ferrier\": 2, \"Léogâne\": 3, \"Pignon\": 2, \"Terre-Neuve\": 25},\n",
    "    \"Pourcentage de la population des communes d’intervention ayant accès au moins à un service élémentaire d’assainissement\": {\"Cavaillon\": 26, \"Ferrier\": 31, \"Léogâne\": 49, \"Pignon\": 35, \"Terre-Neuve\": 24},\n",
    "    \"Pourcentage de la population des communes d’intervention ayant accès à un service d'assainissement géré en toute sécurité\": {\"Cavaillon\": 11, \"Ferrier\": 14, \"Léogâne\": 15, \"Pignon\": 8, \"Terre-Neuve\": 7},\n",
    "    \"Pourcentage de la population des communes d’intervention où les excréments sont éliminés en toute sécurité in situ ou transportés et traités hors site\": {\"Cavaillon\": 8, \"Ferrier\": 13, \"Léogâne\": 13, \"Pignon\": 7, \"Terre-Neuve\": 6},\n",
    "    \"Pourcentage de la population des communes d’intervention ayant accès au moins à un service élémentaire d’hygiène\": {\"Cavaillon\": 29, \"Ferrier\": 56, \"Léogâne\": 60, \"Pignon\": 49, \"Terre-Neuve\": 42},\n",
    "    \"Pourcentage d’écoles disposant au moins de services élémentaires d'eau, d'assainissement et d'hygiène\": {\"Cavaillon\": 20, \"Ferrier\": 2, \"Léogâne\": 16, \"Pignon\": 12, \"Terre-Neuve\": 13},\n",
    "    \"Pourcentage d’établissements de santé disposant au moins de services élémentaires d'eau, d'assainissement et d'hygiène\": {\"Cavaillon\": 80, \"Ferrier\": 25, \"Léogâne\": 63, \"Pignon\": 33, \"Terre-Neuve\": 67}\n",
    "}\n",
    "\n",
    "# Known variations between the new master list and the existing source data\n",
    "known_variations_map = {\n",
    "    \"% of WASH events organized in the communes with the participation of Haitian Rotarians.\": \"% of commune WASH events with Rotarian participation\",\n",
    "    \"% of approved interventions implemented in accordance with commune action plans.\": \"% of approved interventions implemented in alignment with Commune Action Plans\",\n",
    "    \"% of the population in intervention communes with access to at least a basic drinking water service.\": \"% of population in intervention communes with at least basic drinking water service\",\n",
    "    \"% of households that regularly pay for water.\": \"% of households that pay for water on a regular basis\",\n",
    "    \"% of the population in intervention communes with access to at least a basic sanitation service.\": \"% of population in intervention communes with at least basic sanitation service\",\n",
    "    \"% of the population in intervention communes with access to at least a basic hygiene service.\": \"% of population in intervention communes with at least basic hygiene service\",\n",
    "    \"% of schools with at least a basic drinking water, sanitation, and hygiene service.\": \"% of schools with at least basic drinking water, sanitation, and hygiene services\",\n",
    "    \"% of healthcare facilities with at least a basic drinking water, sanitation, and hygiene service.\": \"% of healthcare facilities with at least basic drinking water, sanitation, and hygiene services\",\n",
    "    \"Cumulative amount of funds committed in accordance with the fundamental values of HANWASH, based on a signed memorandum of understanding with HANWASH.\": \"Cumulative amount of money committed in alignment with HANWASH Core Values\",\n",
    "    \"% of water point committees (CPEs) and professional operators created which are functional.\": \"% of water point committees (CPEs) and Professional Operators created which are functional\",\n",
    "    \"% of intervention communities that have achieved Open Defecation Free (ODF) status using the CLTS approach.\": \"% of intervention communities that achieved Open Defecation Free (ODF) status using the CLTS approach\",\n",
    "    \"% of the population in intervention communes who pay for water service.\": \"% of population in intervention communities paying for water service\"\n",
    "}"
   ]
  },
  {
   "cell_type": "code",
   "execution_count": 3,
   "id": "f45fc569",
   "metadata": {},
   "outputs": [
    {
     "name": "stdout",
     "output_type": "stream",
     "text": [
      "Successfully loaded 'classified_indicators.xlsx'.\n"
     ]
    }
   ],
   "source": [
    "try:\n",
    "    df = pd.read_excel('./output/classified_indicators.xlsx')\n",
    "    print(\"Successfully loaded 'classified_indicators.xlsx'.\")\n",
    "except FileNotFoundError:\n",
    "    print(\"Error: 'classified_indicators.xlsx' not found. Please check the file path.\")\n",
    "    exit()\n"
   ]
  },
  {
   "cell_type": "code",
   "execution_count": 4,
   "id": "a057f3fa",
   "metadata": {},
   "outputs": [
    {
     "name": "stdout",
     "output_type": "stream",
     "text": [
      "Baseline data re-keyed to English indicators.\n"
     ]
    }
   ],
   "source": [
    "source_indicators_en = set(df['Indicator'].dropna())\n",
    "# Create a FR -> EN mapping dictionary for translation\n",
    "fr_to_en_map = dict(zip(master_indicators_fr, master_indicators_en))\n",
    "\n",
    "# Create a mapping from English Indicator text to its ID for easy lookup\n",
    "indicator_id_map = pd.Series(df.ID.values, index=df.Indicator).to_dict()\n",
    "\n",
    "# Create a new baseline dictionary with English keys\n",
    "baseline_data_en = {fr_to_en_map.get(fr_key): value for fr_key, value in baseline_data_fr.items() if fr_to_en_map.get(fr_key)}\n",
    "print(\"Baseline data re-keyed to English indicators.\")\n"
   ]
  },
  {
   "cell_type": "code",
   "execution_count": 5,
   "id": "b03e8b7b",
   "metadata": {},
   "outputs": [
    {
     "name": "stdout",
     "output_type": "stream",
     "text": [
      "\n",
      "--- Step 2: Generating imbalance and baseline reports ---\n",
      "Report dataframes created successfully.\n"
     ]
    }
   ],
   "source": [
    "# --- Step 2: Generate Reports ---\n",
    "print(\"\\n--- Step 2: Generating imbalance and baseline reports ---\")\n",
    "imbalance_report_data = []\n",
    "baseline_report_data = []\n",
    "evaluation_indicators_found = []\n",
    "communes = [\"Cavaillon\", \"Ferrier\", \"Léogâne\", \"Pignon\", \"Terre-Neuve\"]\n",
    "\n",
    "for indicator_fr, indicator_en in zip(master_indicators_fr, master_indicators_en):\n",
    "    is_found = \"No\"\n",
    "    indicator_found_text = None\n",
    "    indicator_id = None\n",
    "    \n",
    "    # Check for perfect match or a known variation\n",
    "    if indicator_en in source_indicators_en:\n",
    "        is_found = \"Yes\"\n",
    "        indicator_found_text = indicator_en\n",
    "    elif indicator_en in known_variations_map and known_variations_map[indicator_en] in source_indicators_en:\n",
    "        is_found = \"Yes\"\n",
    "        indicator_found_text = known_variations_map[indicator_en]\n",
    "    \n",
    "    if is_found == \"Yes\":\n",
    "        evaluation_indicators_found.append(indicator_found_text)\n",
    "        indicator_id = indicator_id_map.get(indicator_found_text)\n",
    "        \n",
    "    imbalance_report_data.append({\n",
    "        'pdf_presentation_indicator': indicator_fr,\n",
    "        'is_found': is_found,\n",
    "        'indicator_found': indicator_found_text,\n",
    "        'indicator_id': indicator_id\n",
    "    })\n",
    "    \n",
    "    # Use English indicator for the baseline report\n",
    "    baseline_row = {'Indicator_ID': indicator_id, 'Indicator': indicator_en} \n",
    "    commune_values = baseline_data_en.get(indicator_en, {})\n",
    "    for commune in communes:\n",
    "        baseline_row[commune] = commune_values.get(commune, None)\n",
    "    baseline_report_data.append(baseline_row)\n",
    "\n",
    "imbalance_df = pd.DataFrame(imbalance_report_data)\n",
    "baseline_df = pd.DataFrame(baseline_report_data)\n",
    "print(\"Report dataframes created successfully.\")"
   ]
  },
  {
   "cell_type": "code",
   "execution_count": 6,
   "id": "b71c2b67",
   "metadata": {},
   "outputs": [
    {
     "name": "stdout",
     "output_type": "stream",
     "text": [
      "\n",
      "--- Step 3: Classifying indicators based on the interim report ---\n",
      "Found 6 matching indicators to classify as 'Evaluation'.\n",
      "Classification complete.\n"
     ]
    }
   ],
   "source": [
    "# --- Step 3: Classify Indicators ---\n",
    "print(\"\\n--- Step 3: Classifying indicators based on the interim report ---\")\n",
    "evaluation_indicators = sorted(list(set(evaluation_indicators_found)))\n",
    "print(f\"Found {len(evaluation_indicators)} matching indicators to classify as 'Evaluation'.\")\n",
    "\n",
    "# First, set all existing indicators to 'Monitoring Indicator' by default.\n",
    "# This ensures that any indicator previously marked 'Evaluation' but not in the new list\n",
    "# is correctly re-classified as 'Monitoring'.\n",
    "df.loc[df['Indicator'].notna(), 'Indicator Type'] = 'Monitoring Indicator'\n",
    "\n",
    "# Then, upgrade only the indicators found in our new evaluation list.\n",
    "df.loc[df['Indicator'].isin(evaluation_indicators), 'Indicator Type'] = 'Evaluation Indicator'\n",
    "\n",
    "if 'Commune' in df.columns:\n",
    "    df = df.drop(columns=['Commune'])\n",
    "\n",
    "print(\"Classification complete.\")\n",
    "\n"
   ]
  },
  {
   "cell_type": "code",
   "execution_count": 7,
   "id": "5c80ecb9",
   "metadata": {},
   "outputs": [
    {
     "name": "stdout",
     "output_type": "stream",
     "text": [
      "\n",
      "--- Step 4: Saving all output files to the 'output' directory ---\n",
      "All files saved successfully.\n"
     ]
    }
   ],
   "source": [
    "# --- Step 4: Save All Output Files ---\n",
    "print(\"\\n--- Step 4: Saving all output files to the 'output' directory ---\")\n",
    "output_dir = 'output'\n",
    "if not os.path.exists(output_dir):\n",
    "    os.makedirs(output_dir)\n",
    "\n",
    "imbalance_df.to_excel(os.path.join(output_dir, 'matching_imbalances.xlsx'), index=False)\n",
    "baseline_df.to_excel(os.path.join(output_dir, 'baseline_values_by_commune.xlsx'), index=False)\n",
    "df.to_excel(os.path.join(output_dir, 'classified_indicators_final.xlsx'), index=False)\n",
    "print(\"All files saved successfully.\")\n"
   ]
  },
  {
   "cell_type": "code",
   "execution_count": 8,
   "id": "0ec67656",
   "metadata": {},
   "outputs": [
    {
     "name": "stdout",
     "output_type": "stream",
     "text": [
      "\n",
      "--- Step 5: Final Verification ---\n",
      "New value counts for 'Indicator Type':\n",
      "Indicator Type\n",
      "Monitoring Indicator    49\n",
      "Evaluation Indicator     6\n",
      "NaN                      4\n",
      "Name: count, dtype: int64\n"
     ]
    }
   ],
   "source": [
    "\n",
    "# --- Step 5: Final Verification ---\n",
    "print(\"\\n--- Step 5: Final Verification ---\")\n",
    "print(\"New value counts for 'Indicator Type':\")\n",
    "print(df['Indicator Type'].value_counts(dropna=False))"
   ]
  }
 ],
 "metadata": {
  "kernelspec": {
   "display_name": "Python 3 (ipykernel)",
   "language": "python",
   "name": "python3"
  },
  "language_info": {
   "codemirror_mode": {
    "name": "ipython",
    "version": 3
   },
   "file_extension": ".py",
   "mimetype": "text/x-python",
   "name": "python",
   "nbconvert_exporter": "python",
   "pygments_lexer": "ipython3",
   "version": "3.13.7"
  }
 },
 "nbformat": 4,
 "nbformat_minor": 5
}
