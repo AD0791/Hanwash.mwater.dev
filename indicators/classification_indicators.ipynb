{
 "cells": [
  {
   "cell_type": "code",
   "execution_count": 1,
   "id": "f8585bf6",
   "metadata": {},
   "outputs": [],
   "source": [
    "import pandas as pd\n",
    "import numpy as np\n",
    "import os\n"
   ]
  },
  {
   "cell_type": "code",
   "execution_count": 2,
   "id": "a4d994b5",
   "metadata": {},
   "outputs": [
    {
     "name": "stdout",
     "output_type": "stream",
     "text": [
      "--- Step 1: Defining Master List of PDF Indicators ---\n",
      "Master list contains 18 unique indicators to check.\n"
     ]
    }
   ],
   "source": [
    "# --- Step 1: Define the Complete List of Indicators from the PDF ---\n",
    "# This is the master list we want to track.\n",
    "print(\"--- Step 1: Defining Master List of PDF Indicators ---\")\n",
    "pdf_indicators_list = [\n",
    "    \"% of municipal WASH events with Haitian Rotarian participation\",\n",
    "    \"% of water point committees (CPEs) and Professional Operators created which are functional\",\n",
    "    \"% of intervention communities that achieved ODF status using the CLTS approach\",\n",
    "    \"% of population in intervention communities paying for water service\",\n",
    "    \"% of municipal WASH interventions implemented in alignment with the Commune Action Plan\",\n",
    "    \"% of the intervention communes with functional WASH municipal committee\",\n",
    "    \"% of service providers monitored according to DINEPA/OREPA guidelines as accepted by the Mayor's Office\",\n",
    "    \"% of customers satisfied with the quality, affordability and reliability of the WASH services provided\",\n",
    "    \"% of communes which have held an annual WASH service provider review with key stakeholders in the last year\",\n",
    "    # Note: Corrected a typo from the prompt where the next two were merged\n",
    "    \"% of population in intervention communes with access to basic drinking water service\",\n",
    "    \"% of population in intervention communes with access to safely managed drinking water service\",\n",
    "    \"% of intervention water points and water systems which are functional, potable, and have at least a balanced budget after 2 years\",\n",
    "    \"% of population in intervention communes with at least basic sanitation service\",\n",
    "    \"% of population in intervention communes with at least basic hygiene service\",\n",
    "    \"% of schools with at least basic drinking water, sanitation, and hygiene services\",\n",
    "    \"% of healthcare facilities with at least basic drinking water, sanitation, and hygiene services\",\n",
    "    \"# of partnerships made in alignment with HANWASH core values\",\n",
    "    \"Cumulative amount of money committed in alignment with HANWASH Core Values\",\n",
    "]\n",
    "# Remove duplicates to ensure a clean report\n",
    "pdf_indicators_list = sorted(list(set(pdf_indicators_list)))\n",
    "print(f\"Master list contains {len(pdf_indicators_list)} unique indicators to check.\")"
   ]
  },
  {
   "cell_type": "code",
   "execution_count": 3,
   "id": "726d56fd",
   "metadata": {},
   "outputs": [],
   "source": [
    "# --- Step 1b: Define known variations between PDF and source data ---\n",
    "# This mapping helps us find indicators with slight wording differences.\n",
    "known_variations_map = {\n",
    "    \"% of municipal WASH events with Haitian Rotarian participation\": \"% of commune WASH events with Rotarian participation\",\n",
    "    \"% of municipal WASH interventions implemented in alignment with the Commune Action Plan\": \"% of approved interventions implemented in alignment with Commune Action Plans\",\n",
    "    \"% of service providers monitored according to DINEPA/OREPA guidelines as accepted by the Mayor's Office\": \"% of service providers under HANWASH initiative monitored according to national guidelines\",\n",
    "    # The PDF uses 'access to', the data uses 'at least'\n",
    "    \"% of population in intervention communes with access to basic drinking water service\": \"% of population in intervention communes with at least basic drinking water service\"\n",
    "}\n"
   ]
  },
  {
   "cell_type": "code",
   "execution_count": 4,
   "id": "f3ad5811",
   "metadata": {},
   "outputs": [
    {
     "name": "stdout",
     "output_type": "stream",
     "text": [
      "\n",
      "--- Step 2: Loading Data ---\n",
      "Successfully loaded './output/merged_indicators.xlsx'.\n"
     ]
    }
   ],
   "source": [
    "# --- Step 2: Load the Merged Data (Our Source of Truth) ---\n",
    "print(\"\\n--- Step 2: Loading Data ---\")\n",
    "input_file = './output/merged_indicators.xlsx'\n",
    "try:\n",
    "    df = pd.read_excel(input_file)\n",
    "    print(f\"Successfully loaded '{input_file}'.\")\n",
    "    df['Indicator Type'] = df['Indicator Type'].astype(object)\n",
    "except FileNotFoundError:\n",
    "    print(f\"Error: The file '{input_file}' was not found. Please ensure it's in the same directory.\")\n",
    "    exit()\n",
    "\n"
   ]
  },
  {
   "cell_type": "code",
   "execution_count": 5,
   "id": "13bd0c30",
   "metadata": {},
   "outputs": [],
   "source": [
    "# For efficient lookup, create a set of the indicators that exist in our data\n",
    "source_indicators = set(df['Indicator'].dropna())"
   ]
  },
  {
   "cell_type": "code",
   "execution_count": 6,
   "id": "4188444f",
   "metadata": {},
   "outputs": [
    {
     "name": "stdout",
     "output_type": "stream",
     "text": [
      "\n",
      "--- Step 3: Generating 'matching_imbalances.xlsx' report ---\n",
      "Imbalance report created.\n"
     ]
    }
   ],
   "source": [
    "# --- Step 3: Create the Matching Imbalances Report ---\n",
    "print(\"\\n--- Step 3: Generating 'matching_imbalances.xlsx' report ---\")\n",
    "imbalance_report_data = []\n",
    "evaluation_indicators_found = []\n",
    "\n",
    "for indicator_title in pdf_indicators_list:\n",
    "    # Use None for consistency with the np.select fix\n",
    "    indicator_found_text = None\n",
    "    is_found = \"No\"\n",
    "\n",
    "    # 1. Check for a perfect match\n",
    "    if indicator_title in source_indicators:\n",
    "        is_found = \"Yes\"\n",
    "        indicator_found_text = indicator_title\n",
    "        evaluation_indicators_found.append(indicator_title)\n",
    "    # 2. If no perfect match, check our known variations map\n",
    "    elif indicator_title in known_variations_map:\n",
    "        mapped_indicator = known_variations_map[indicator_title]\n",
    "        if mapped_indicator in source_indicators:\n",
    "            is_found = \"Yes\"\n",
    "            indicator_found_text = mapped_indicator\n",
    "            evaluation_indicators_found.append(mapped_indicator)\n",
    "\n",
    "    imbalance_report_data.append({\n",
    "        'pdf_presentation_indicator': indicator_title,\n",
    "        'is_found': is_found,\n",
    "        'indicator_found': indicator_found_text\n",
    "    })\n",
    "\n",
    "report_df = pd.DataFrame(imbalance_report_data)\n",
    "print(\"Imbalance report created.\")\n"
   ]
  },
  {
   "cell_type": "code",
   "execution_count": 7,
   "id": "324f32a5",
   "metadata": {},
   "outputs": [
    {
     "name": "stdout",
     "output_type": "stream",
     "text": [
      "\n",
      "--- Step 4: Saving Files ---\n",
      "Imbalance report saved to 'output/matching_imbalances.xlsx'\n"
     ]
    }
   ],
   "source": [
    "# --- Step 4: Save Both Spreadsheets ---\n",
    "print(\"\\n--- Step 4: Saving Files ---\")\n",
    "output_dir = 'output'\n",
    "if not os.path.exists(output_dir):\n",
    "    os.makedirs(output_dir)\n",
    "\n",
    "# Save the matching imbalances report\n",
    "report_filename = os.path.join(output_dir, 'matching_imbalances.xlsx')\n",
    "report_df.to_excel(report_filename, index=False)\n",
    "print(f\"Imbalance report saved to '{report_filename}'\")"
   ]
  },
  {
   "cell_type": "code",
   "execution_count": 8,
   "id": "de2777f8",
   "metadata": {},
   "outputs": [
    {
     "name": "stdout",
     "output_type": "stream",
     "text": [
      "\n",
      "--- Step 5: Classifying Indicators in the main spreadsheet ---\n",
      "Using 7 found indicators for classification.\n",
      "Classification complete.\n"
     ]
    }
   ],
   "source": [
    "# --- Step 5: Apply Classification Logic using ONLY the found indicators ---\n",
    "print(\"\\n--- Step 5: Classifying Indicators in the main spreadsheet ---\")\n",
    "# Ensure the list of evaluation indicators is unique\n",
    "evaluation_indicators = sorted(list(set(evaluation_indicators_found)))\n",
    "print(f\"Using {len(evaluation_indicators)} found indicators for classification.\")\n",
    "\n",
    "conditions = [\n",
    "    df['Indicator'].isin(evaluation_indicators),\n",
    "    (~df['Indicator'].isin(evaluation_indicators)) & (df['Indicator'].notna())\n",
    "]\n",
    "outcomes = ['Evaluation Indicator', 'Monitoring Indicator']\n",
    "# FIX: Use `None` as the default value to avoid the TypeError with mixed string/float types.\n",
    "df['Indicator Type'] = np.select(conditions, outcomes, default=None)\n",
    "print(\"Classification complete.\")\n"
   ]
  },
  {
   "cell_type": "code",
   "execution_count": 9,
   "id": "6fbc7d66",
   "metadata": {},
   "outputs": [
    {
     "name": "stdout",
     "output_type": "stream",
     "text": [
      "Updated main table saved to 'output/classified_indicators.xlsx'\n"
     ]
    }
   ],
   "source": [
    "# Save the classified data\n",
    "output_filename = os.path.join(output_dir, 'classified_indicators.xlsx')\n",
    "df.to_excel(output_filename, index=False)\n",
    "print(f\"Updated main table saved to '{output_filename}'\")\n"
   ]
  },
  {
   "cell_type": "code",
   "execution_count": 10,
   "id": "5c03e920",
   "metadata": {},
   "outputs": [
    {
     "name": "stdout",
     "output_type": "stream",
     "text": [
      "\n",
      "--- Verification of Main Table ---\n",
      "Value counts for 'Indicator Type':\n",
      "Indicator Type\n",
      "Monitoring Indicator    48\n",
      "Evaluation Indicator     7\n",
      "None                     4\n",
      "Name: count, dtype: int64\n"
     ]
    }
   ],
   "source": [
    "# --- Verification ---\n",
    "print(\"\\n--- Verification of Main Table ---\")\n",
    "print(\"Value counts for 'Indicator Type':\")\n",
    "print(df['Indicator Type'].value_counts(dropna=False))"
   ]
  }
 ],
 "metadata": {
  "kernelspec": {
   "display_name": "Python 3 (ipykernel)",
   "language": "python",
   "name": "python3"
  },
  "language_info": {
   "codemirror_mode": {
    "name": "ipython",
    "version": 3
   },
   "file_extension": ".py",
   "mimetype": "text/x-python",
   "name": "python",
   "nbconvert_exporter": "python",
   "pygments_lexer": "ipython3",
   "version": "3.13.7"
  }
 },
 "nbformat": 4,
 "nbformat_minor": 5
}
